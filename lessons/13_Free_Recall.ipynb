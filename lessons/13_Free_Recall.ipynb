{
 "cells": [
  {
   "cell_type": "markdown",
   "metadata": {
    "slideshow": {
     "slide_type": "slide"
    }
   },
   "source": [
    "# Free Recall\n",
    "## Computational Methods in Psychology (and Neuroscience)\n",
    "### Psychology 4215/7215 --- Fall 2021\n",
    "By: Per B. Sederberg, PhD\n",
    "\n"
   ]
  },
  {
   "cell_type": "markdown",
   "metadata": {
    "slideshow": {
     "slide_type": "slide"
    }
   },
   "source": [
    "# Lesson Objectives\n",
    "\n",
    "Upon completion of this lesson, students should have learned:\n",
    "\n",
    "1. Review of Free Recall variants\n",
    "2. Load in and process free recall data\n",
    "3. Test math performance\n",
    "4. Evaluate recall performance\n"
   ]
  },
  {
   "cell_type": "markdown",
   "metadata": {
    "slideshow": {
     "slide_type": "slide"
    }
   },
   "source": [
    "# Free Recall\n",
    "\n",
    "## General structure\n",
    "\n",
    "`STUDY list (12 items)` -> `MATH distractor (20 sec)` -> `Free Recall (45 sec)`\n",
    "\n",
    "## Core premise\n",
    "\n",
    "*What you recall, and the order in which you recall it, can inform the associative processes used to guide episodic memory retrieval.*"
   ]
  },
  {
   "cell_type": "markdown",
   "metadata": {
    "slideshow": {
     "slide_type": "slide"
    }
   },
   "source": [
    "# Deese-Roediger-McDermott (DRM) Task\n",
    "\n",
    "Structure the study lists such that participants have an increased tendency to generate false recalls.\n",
    "\n",
    "## Example list\n",
    "\n",
    "```\n",
    "NOSE\n",
    "BREATHE\n",
    "SNIFF\n",
    "AROMA\n",
    "HEAR\n",
    "SEE\n",
    "NOSTRIL\n",
    "WHIFF\n",
    "SCENT\n",
    "REEK\n",
    "STENCH\n",
    "FRAGRANCE\n",
    "```"
   ]
  },
  {
   "cell_type": "markdown",
   "metadata": {
    "slideshow": {
     "slide_type": "slide"
    }
   },
   "source": [
    "# New libraries to install\n",
    "\n",
    "You're going to need a new plotting library, so run this line at your Anaconda Prompt/Terminal:\n",
    "\n",
    "`conda install seaborn`\n",
    "\n",
    "You'll also need this library for free recall analysis:\n",
    "\n",
    "`pip install quail` "
   ]
  },
  {
   "cell_type": "code",
   "execution_count": 115,
   "metadata": {},
   "outputs": [],
   "source": [
    "# import some useful libraries\n",
    "import numpy as np                # numerical analysis linear algebra\n",
    "import pandas as pd               # efficient tables\n",
    "import matplotlib.pyplot as plt   # plotting\n",
    "import plotnine as pn\n",
    "import scipy.stats.distributions as dists     # probability distributions\n",
    "from scipy import stats\n",
    "from glob import glob\n",
    "import os\n",
    "\n",
    "# smile for reading logs\n",
    "from smile.log import log2dl\n",
    "from ci_within import ci_within\n",
    "\n",
    "# statsmodels for stats\n",
    "import statsmodels.formula.api as smf\n",
    "import statsmodels.api as sm\n",
    "\n",
    "# set seaborn context for bigger plots\n",
    "import seaborn as sns\n",
    "sns.set_context('talk')"
   ]
  },
  {
   "cell_type": "markdown",
   "metadata": {
    "slideshow": {
     "slide_type": "slide"
    }
   },
   "source": [
    "## Custom SLOG loading function"
   ]
  },
  {
   "cell_type": "code",
   "execution_count": 2,
   "metadata": {},
   "outputs": [],
   "source": [
    "# custom function to load slogs\n",
    "def load_all_subj_logs(data_dir, log_file):\n",
    "    # load in a list of all the subj\n",
    "    subjs = [os.path.splitext(os.path.split(filepath)[1])[0].split('_')[0]\n",
    "             for filepath in glob(os.path.join(data_dir, '*' + log_file + '.slog'))]\n",
    "    subjs.sort()\n",
    "    #print(subjs)\n",
    "    # loop over subj and their data\n",
    "    all_dat = []\n",
    "    for subj in subjs:\n",
    "        # set the file\n",
    "        log_path = os.path.join(data_dir, subj+'_'+log_file+'.slog')\n",
    "        print(log_path)\n",
    "\n",
    "        # load the data\n",
    "        try:\n",
    "            all_dat.extend(log2dl(log_path, subj=subj))\n",
    "        except:\n",
    "            pass\n",
    "\n",
    "    df = pd.DataFrame(all_dat)\n",
    "    \n",
    "    return df"
   ]
  },
  {
   "cell_type": "markdown",
   "metadata": {
    "slideshow": {
     "slide_type": "slide"
    }
   },
   "source": [
    "## Load in all the data"
   ]
  },
  {
   "cell_type": "code",
   "execution_count": 131,
   "metadata": {
    "scrolled": false
   },
   "outputs": [
    {
     "name": "stdout",
     "output_type": "stream",
     "text": [
      "free_recall_data/s000_log_study.slog\n",
      "free_recall_data/s001_log_study.slog\n",
      "free_recall_data/s002_log_study.slog\n",
      "free_recall_data/s003_log_study.slog\n",
      "free_recall_data/s004_log_study.slog\n",
      "free_recall_data/s005_log_study.slog\n",
      "free_recall_data/s006_log_study.slog\n",
      "free_recall_data/s007_log_study.slog\n",
      "free_recall_data/s008_log_study.slog\n",
      "free_recall_data/s009_log_study.slog\n",
      "free_recall_data/s010_log_study.slog\n",
      "free_recall_data/s011_log_study.slog\n",
      "free_recall_data/s012_log_study.slog\n",
      "free_recall_data/s000_log_recall.slog\n",
      "free_recall_data/s001_log_recall.slog\n",
      "free_recall_data/s002_log_recall.slog\n",
      "free_recall_data/s003_log_recall.slog\n",
      "free_recall_data/s004_log_recall.slog\n",
      "free_recall_data/s005_log_recall.slog\n",
      "free_recall_data/s006_log_recall.slog\n",
      "free_recall_data/s007_log_recall.slog\n",
      "free_recall_data/s008_log_recall.slog\n",
      "free_recall_data/s009_log_recall.slog\n",
      "free_recall_data/s010_log_recall.slog\n",
      "free_recall_data/s011_log_recall.slog\n",
      "free_recall_data/s012_log_recall.slog\n",
      "free_recall_data/s000_log_math_distract.slog\n",
      "free_recall_data/s001_log_math_distract.slog\n",
      "free_recall_data/s002_log_math_distract.slog\n",
      "free_recall_data/s003_log_math_distract.slog\n",
      "free_recall_data/s004_log_math_distract.slog\n",
      "free_recall_data/s005_log_math_distract.slog\n",
      "free_recall_data/s006_log_math_distract.slog\n",
      "free_recall_data/s007_log_math_distract.slog\n",
      "free_recall_data/s008_log_math_distract.slog\n",
      "free_recall_data/s009_log_math_distract.slog\n",
      "free_recall_data/s010_log_math_distract.slog\n",
      "free_recall_data/s011_log_math_distract.slog\n",
      "free_recall_data/s012_log_math_distract.slog\n"
     ]
    },
    {
     "data": {
      "text/html": [
       "<div>\n",
       "<style scoped>\n",
       "    .dataframe tbody tr th:only-of-type {\n",
       "        vertical-align: middle;\n",
       "    }\n",
       "\n",
       "    .dataframe tbody tr th {\n",
       "        vertical-align: top;\n",
       "    }\n",
       "\n",
       "    .dataframe thead th {\n",
       "        text-align: right;\n",
       "    }\n",
       "</style>\n",
       "<table border=\"1\" class=\"dataframe\">\n",
       "  <thead>\n",
       "    <tr style=\"text-align: right;\">\n",
       "      <th></th>\n",
       "      <th>block_num</th>\n",
       "      <th>trial_num</th>\n",
       "      <th>stim_on_time</th>\n",
       "      <th>stim_on_error</th>\n",
       "      <th>log_time</th>\n",
       "      <th>word</th>\n",
       "      <th>cond</th>\n",
       "      <th>serial_pos</th>\n",
       "      <th>critical_word</th>\n",
       "      <th>subj</th>\n",
       "      <th>log_num</th>\n",
       "    </tr>\n",
       "  </thead>\n",
       "  <tbody>\n",
       "    <tr>\n",
       "      <th>0</th>\n",
       "      <td>0</td>\n",
       "      <td>0</td>\n",
       "      <td>48.497539</td>\n",
       "      <td>0.0</td>\n",
       "      <td>50.591471</td>\n",
       "      <td>COUNTRY</td>\n",
       "      <td>DRM</td>\n",
       "      <td>1</td>\n",
       "      <td>city</td>\n",
       "      <td>s000</td>\n",
       "      <td>0</td>\n",
       "    </tr>\n",
       "    <tr>\n",
       "      <th>1</th>\n",
       "      <td>0</td>\n",
       "      <td>1</td>\n",
       "      <td>50.607072</td>\n",
       "      <td>0.0</td>\n",
       "      <td>52.466492</td>\n",
       "      <td>STREET</td>\n",
       "      <td>DRM</td>\n",
       "      <td>2</td>\n",
       "      <td>city</td>\n",
       "      <td>s000</td>\n",
       "      <td>0</td>\n",
       "    </tr>\n",
       "    <tr>\n",
       "      <th>2</th>\n",
       "      <td>0</td>\n",
       "      <td>2</td>\n",
       "      <td>52.480423</td>\n",
       "      <td>0.0</td>\n",
       "      <td>54.377311</td>\n",
       "      <td>VILLAGE</td>\n",
       "      <td>DRM</td>\n",
       "      <td>3</td>\n",
       "      <td>city</td>\n",
       "      <td>s000</td>\n",
       "      <td>0</td>\n",
       "    </tr>\n",
       "    <tr>\n",
       "      <th>3</th>\n",
       "      <td>0</td>\n",
       "      <td>3</td>\n",
       "      <td>54.391027</td>\n",
       "      <td>0.0</td>\n",
       "      <td>56.567661</td>\n",
       "      <td>STATE</td>\n",
       "      <td>DRM</td>\n",
       "      <td>4</td>\n",
       "      <td>city</td>\n",
       "      <td>s000</td>\n",
       "      <td>0</td>\n",
       "    </tr>\n",
       "    <tr>\n",
       "      <th>4</th>\n",
       "      <td>0</td>\n",
       "      <td>4</td>\n",
       "      <td>56.579191</td>\n",
       "      <td>0.0</td>\n",
       "      <td>58.497010</td>\n",
       "      <td>CHICAGO</td>\n",
       "      <td>DRM</td>\n",
       "      <td>5</td>\n",
       "      <td>city</td>\n",
       "      <td>s000</td>\n",
       "      <td>0</td>\n",
       "    </tr>\n",
       "  </tbody>\n",
       "</table>\n",
       "</div>"
      ],
      "text/plain": [
       "   block_num  trial_num  stim_on_time  stim_on_error   log_time     word cond  \\\n",
       "0          0          0     48.497539            0.0  50.591471  COUNTRY  DRM   \n",
       "1          0          1     50.607072            0.0  52.466492   STREET  DRM   \n",
       "2          0          2     52.480423            0.0  54.377311  VILLAGE  DRM   \n",
       "3          0          3     54.391027            0.0  56.567661    STATE  DRM   \n",
       "4          0          4     56.579191            0.0  58.497010  CHICAGO  DRM   \n",
       "\n",
       "   serial_pos critical_word  subj  log_num  \n",
       "0           1          city  s000        0  \n",
       "1           2          city  s000        0  \n",
       "2           3          city  s000        0  \n",
       "3           4          city  s000        0  \n",
       "4           5          city  s000        0  "
      ]
     },
     "execution_count": 131,
     "metadata": {},
     "output_type": "execute_result"
    }
   ],
   "source": [
    "# load the data from each task\n",
    "data_dir = 'free_recall_data'\n",
    "df_s = load_all_subj_logs(data_dir, 'log_study')\n",
    "df_r = load_all_subj_logs(data_dir, 'log_recall')\n",
    "df_m = load_all_subj_logs(data_dir, 'log_math_distract')\n",
    "df_s.head()"
   ]
  },
  {
   "cell_type": "markdown",
   "metadata": {
    "slideshow": {
     "slide_type": "slide"
    }
   },
   "source": [
    "## Binomial test of math performance"
   ]
  },
  {
   "cell_type": "code",
   "execution_count": 132,
   "metadata": {},
   "outputs": [
    {
     "data": {
      "text/html": [
       "<div>\n",
       "<style scoped>\n",
       "    .dataframe tbody tr th:only-of-type {\n",
       "        vertical-align: middle;\n",
       "    }\n",
       "\n",
       "    .dataframe tbody tr th {\n",
       "        vertical-align: top;\n",
       "    }\n",
       "\n",
       "    .dataframe thead th {\n",
       "        text-align: right;\n",
       "    }\n",
       "</style>\n",
       "<table border=\"1\" class=\"dataframe\">\n",
       "  <thead>\n",
       "    <tr style=\"text-align: right;\">\n",
       "      <th></th>\n",
       "      <th>correct</th>\n",
       "      <th>resp</th>\n",
       "      <th>rt</th>\n",
       "      <th>trial_appear_time</th>\n",
       "      <th>trial_appear_error</th>\n",
       "      <th>press_time_time</th>\n",
       "      <th>press_time_error</th>\n",
       "      <th>log_time</th>\n",
       "      <th>text</th>\n",
       "      <th>condition</th>\n",
       "      <th>correct_key</th>\n",
       "      <th>subj</th>\n",
       "      <th>log_num</th>\n",
       "    </tr>\n",
       "  </thead>\n",
       "  <tbody>\n",
       "    <tr>\n",
       "      <th>0</th>\n",
       "      <td>False</td>\n",
       "      <td>J</td>\n",
       "      <td>3.043467</td>\n",
       "      <td>73.971691</td>\n",
       "      <td>0.0</td>\n",
       "      <td>77.015158</td>\n",
       "      <td>0.000166</td>\n",
       "      <td>77.515158</td>\n",
       "      <td>2 + 8 + 4 = 4</td>\n",
       "      <td>False</td>\n",
       "      <td>F</td>\n",
       "      <td>s000</td>\n",
       "      <td>0</td>\n",
       "    </tr>\n",
       "    <tr>\n",
       "      <th>1</th>\n",
       "      <td>True</td>\n",
       "      <td>F</td>\n",
       "      <td>0.670359</td>\n",
       "      <td>78.528665</td>\n",
       "      <td>0.0</td>\n",
       "      <td>79.199024</td>\n",
       "      <td>0.000169</td>\n",
       "      <td>79.699024</td>\n",
       "      <td>6 + 3 + 5 = 24</td>\n",
       "      <td>False</td>\n",
       "      <td>F</td>\n",
       "      <td>s000</td>\n",
       "      <td>0</td>\n",
       "    </tr>\n",
       "    <tr>\n",
       "      <th>2</th>\n",
       "      <td>True</td>\n",
       "      <td>J</td>\n",
       "      <td>1.647502</td>\n",
       "      <td>80.704973</td>\n",
       "      <td>0.0</td>\n",
       "      <td>82.352476</td>\n",
       "      <td>0.000177</td>\n",
       "      <td>82.852476</td>\n",
       "      <td>10 + 6 + 6 = 22</td>\n",
       "      <td>True</td>\n",
       "      <td>J</td>\n",
       "      <td>s000</td>\n",
       "      <td>0</td>\n",
       "    </tr>\n",
       "    <tr>\n",
       "      <th>3</th>\n",
       "      <td>False</td>\n",
       "      <td>F</td>\n",
       "      <td>1.547946</td>\n",
       "      <td>83.862600</td>\n",
       "      <td>0.0</td>\n",
       "      <td>85.410546</td>\n",
       "      <td>0.000156</td>\n",
       "      <td>85.910546</td>\n",
       "      <td>10 + 9 + 7 = 26</td>\n",
       "      <td>True</td>\n",
       "      <td>J</td>\n",
       "      <td>s000</td>\n",
       "      <td>0</td>\n",
       "    </tr>\n",
       "    <tr>\n",
       "      <th>4</th>\n",
       "      <td>True</td>\n",
       "      <td>J</td>\n",
       "      <td>1.505560</td>\n",
       "      <td>86.923595</td>\n",
       "      <td>0.0</td>\n",
       "      <td>88.429155</td>\n",
       "      <td>0.000163</td>\n",
       "      <td>88.929155</td>\n",
       "      <td>10 + 10 + 5 = 25</td>\n",
       "      <td>True</td>\n",
       "      <td>J</td>\n",
       "      <td>s000</td>\n",
       "      <td>0</td>\n",
       "    </tr>\n",
       "  </tbody>\n",
       "</table>\n",
       "</div>"
      ],
      "text/plain": [
       "   correct resp        rt  trial_appear_time  trial_appear_error  \\\n",
       "0    False    J  3.043467          73.971691                 0.0   \n",
       "1     True    F  0.670359          78.528665                 0.0   \n",
       "2     True    J  1.647502          80.704973                 0.0   \n",
       "3    False    F  1.547946          83.862600                 0.0   \n",
       "4     True    J  1.505560          86.923595                 0.0   \n",
       "\n",
       "   press_time_time  press_time_error   log_time              text  condition  \\\n",
       "0        77.015158          0.000166  77.515158     2 + 8 + 4 = 4      False   \n",
       "1        79.199024          0.000169  79.699024    6 + 3 + 5 = 24      False   \n",
       "2        82.352476          0.000177  82.852476   10 + 6 + 6 = 22       True   \n",
       "3        85.410546          0.000156  85.910546   10 + 9 + 7 = 26       True   \n",
       "4        88.429155          0.000163  88.929155  10 + 10 + 5 = 25       True   \n",
       "\n",
       "  correct_key  subj  log_num  \n",
       "0           F  s000        0  \n",
       "1           F  s000        0  \n",
       "2           J  s000        0  \n",
       "3           J  s000        0  \n",
       "4           J  s000        0  "
      ]
     },
     "execution_count": 132,
     "metadata": {},
     "output_type": "execute_result"
    }
   ],
   "source": [
    "df_m.head()"
   ]
  },
  {
   "cell_type": "code",
   "execution_count": 133,
   "metadata": {},
   "outputs": [
    {
     "data": {
      "text/html": [
       "<div>\n",
       "<style scoped>\n",
       "    .dataframe tbody tr th:only-of-type {\n",
       "        vertical-align: middle;\n",
       "    }\n",
       "\n",
       "    .dataframe tbody tr th {\n",
       "        vertical-align: top;\n",
       "    }\n",
       "\n",
       "    .dataframe thead th {\n",
       "        text-align: right;\n",
       "    }\n",
       "</style>\n",
       "<table border=\"1\" class=\"dataframe\">\n",
       "  <thead>\n",
       "    <tr style=\"text-align: right;\">\n",
       "      <th></th>\n",
       "      <th>sum</th>\n",
       "      <th>count</th>\n",
       "      <th>mean</th>\n",
       "    </tr>\n",
       "    <tr>\n",
       "      <th>subj</th>\n",
       "      <th></th>\n",
       "      <th></th>\n",
       "      <th></th>\n",
       "    </tr>\n",
       "  </thead>\n",
       "  <tbody>\n",
       "    <tr>\n",
       "      <th>s000</th>\n",
       "      <td>33</td>\n",
       "      <td>44</td>\n",
       "      <td>0.750000</td>\n",
       "    </tr>\n",
       "    <tr>\n",
       "      <th>s001</th>\n",
       "      <td>38</td>\n",
       "      <td>48</td>\n",
       "      <td>0.791667</td>\n",
       "    </tr>\n",
       "    <tr>\n",
       "      <th>s002</th>\n",
       "      <td>38</td>\n",
       "      <td>45</td>\n",
       "      <td>0.844444</td>\n",
       "    </tr>\n",
       "    <tr>\n",
       "      <th>s003</th>\n",
       "      <td>32</td>\n",
       "      <td>35</td>\n",
       "      <td>0.914286</td>\n",
       "    </tr>\n",
       "    <tr>\n",
       "      <th>s004</th>\n",
       "      <td>41</td>\n",
       "      <td>55</td>\n",
       "      <td>0.745455</td>\n",
       "    </tr>\n",
       "  </tbody>\n",
       "</table>\n",
       "</div>"
      ],
      "text/plain": [
       "      sum  count      mean\n",
       "subj                      \n",
       "s000   33     44  0.750000\n",
       "s001   38     48  0.791667\n",
       "s002   38     45  0.844444\n",
       "s003   32     35  0.914286\n",
       "s004   41     55  0.745455"
      ]
     },
     "execution_count": 133,
     "metadata": {},
     "output_type": "execute_result"
    }
   ],
   "source": [
    "# get counts and mean perf for each subject\n",
    "mperf = df_m.groupby(['subj'])['correct'].agg(['sum', 'count', 'mean'])\n",
    "mperf.head()"
   ]
  },
  {
   "cell_type": "code",
   "execution_count": 134,
   "metadata": {},
   "outputs": [
    {
     "data": {
      "text/html": [
       "<div>\n",
       "<style scoped>\n",
       "    .dataframe tbody tr th:only-of-type {\n",
       "        vertical-align: middle;\n",
       "    }\n",
       "\n",
       "    .dataframe tbody tr th {\n",
       "        vertical-align: top;\n",
       "    }\n",
       "\n",
       "    .dataframe thead th {\n",
       "        text-align: right;\n",
       "    }\n",
       "</style>\n",
       "<table border=\"1\" class=\"dataframe\">\n",
       "  <thead>\n",
       "    <tr style=\"text-align: right;\">\n",
       "      <th></th>\n",
       "      <th>sum</th>\n",
       "      <th>count</th>\n",
       "      <th>mean</th>\n",
       "      <th>binom_pval</th>\n",
       "      <th>good</th>\n",
       "    </tr>\n",
       "    <tr>\n",
       "      <th>subj</th>\n",
       "      <th></th>\n",
       "      <th></th>\n",
       "      <th></th>\n",
       "      <th></th>\n",
       "      <th></th>\n",
       "    </tr>\n",
       "  </thead>\n",
       "  <tbody>\n",
       "    <tr>\n",
       "      <th>s000</th>\n",
       "      <td>33</td>\n",
       "      <td>44</td>\n",
       "      <td>0.750000</td>\n",
       "      <td>6.300169e-04</td>\n",
       "      <td>True</td>\n",
       "    </tr>\n",
       "    <tr>\n",
       "      <th>s001</th>\n",
       "      <td>38</td>\n",
       "      <td>48</td>\n",
       "      <td>0.791667</td>\n",
       "      <td>3.084820e-05</td>\n",
       "      <td>True</td>\n",
       "    </tr>\n",
       "    <tr>\n",
       "      <th>s002</th>\n",
       "      <td>38</td>\n",
       "      <td>45</td>\n",
       "      <td>0.844444</td>\n",
       "      <td>1.560655e-06</td>\n",
       "      <td>True</td>\n",
       "    </tr>\n",
       "    <tr>\n",
       "      <th>s003</th>\n",
       "      <td>32</td>\n",
       "      <td>35</td>\n",
       "      <td>0.914286</td>\n",
       "      <td>2.088491e-07</td>\n",
       "      <td>True</td>\n",
       "    </tr>\n",
       "    <tr>\n",
       "      <th>s004</th>\n",
       "      <td>41</td>\n",
       "      <td>55</td>\n",
       "      <td>0.745455</td>\n",
       "      <td>1.776406e-04</td>\n",
       "      <td>True</td>\n",
       "    </tr>\n",
       "    <tr>\n",
       "      <th>s005</th>\n",
       "      <td>45</td>\n",
       "      <td>53</td>\n",
       "      <td>0.849057</td>\n",
       "      <td>1.184176e-07</td>\n",
       "      <td>True</td>\n",
       "    </tr>\n",
       "    <tr>\n",
       "      <th>s006</th>\n",
       "      <td>54</td>\n",
       "      <td>63</td>\n",
       "      <td>0.857143</td>\n",
       "      <td>3.054140e-09</td>\n",
       "      <td>True</td>\n",
       "    </tr>\n",
       "    <tr>\n",
       "      <th>s007</th>\n",
       "      <td>35</td>\n",
       "      <td>50</td>\n",
       "      <td>0.700000</td>\n",
       "      <td>3.300224e-03</td>\n",
       "      <td>True</td>\n",
       "    </tr>\n",
       "    <tr>\n",
       "      <th>s008</th>\n",
       "      <td>51</td>\n",
       "      <td>65</td>\n",
       "      <td>0.784615</td>\n",
       "      <td>2.237612e-06</td>\n",
       "      <td>True</td>\n",
       "    </tr>\n",
       "    <tr>\n",
       "      <th>s009</th>\n",
       "      <td>62</td>\n",
       "      <td>68</td>\n",
       "      <td>0.911765</td>\n",
       "      <td>4.090977e-13</td>\n",
       "      <td>True</td>\n",
       "    </tr>\n",
       "    <tr>\n",
       "      <th>s010</th>\n",
       "      <td>38</td>\n",
       "      <td>43</td>\n",
       "      <td>0.883721</td>\n",
       "      <td>1.249755e-07</td>\n",
       "      <td>True</td>\n",
       "    </tr>\n",
       "    <tr>\n",
       "      <th>s011</th>\n",
       "      <td>35</td>\n",
       "      <td>45</td>\n",
       "      <td>0.777778</td>\n",
       "      <td>1.235439e-04</td>\n",
       "      <td>True</td>\n",
       "    </tr>\n",
       "    <tr>\n",
       "      <th>s012</th>\n",
       "      <td>42</td>\n",
       "      <td>50</td>\n",
       "      <td>0.840000</td>\n",
       "      <td>5.817779e-07</td>\n",
       "      <td>True</td>\n",
       "    </tr>\n",
       "  </tbody>\n",
       "</table>\n",
       "</div>"
      ],
      "text/plain": [
       "      sum  count      mean    binom_pval  good\n",
       "subj                                          \n",
       "s000   33     44  0.750000  6.300169e-04  True\n",
       "s001   38     48  0.791667  3.084820e-05  True\n",
       "s002   38     45  0.844444  1.560655e-06  True\n",
       "s003   32     35  0.914286  2.088491e-07  True\n",
       "s004   41     55  0.745455  1.776406e-04  True\n",
       "s005   45     53  0.849057  1.184176e-07  True\n",
       "s006   54     63  0.857143  3.054140e-09  True\n",
       "s007   35     50  0.700000  3.300224e-03  True\n",
       "s008   51     65  0.784615  2.237612e-06  True\n",
       "s009   62     68  0.911765  4.090977e-13  True\n",
       "s010   38     43  0.883721  1.249755e-07  True\n",
       "s011   35     45  0.777778  1.235439e-04  True\n",
       "s012   42     50  0.840000  5.817779e-07  True"
      ]
     },
     "execution_count": 134,
     "metadata": {},
     "output_type": "execute_result"
    }
   ],
   "source": [
    "# add the binom_test p value as a new column (axis=1 tells it to go by row)\n",
    "mperf['binom_pval'] = mperf.apply(lambda x: stats.binom_test(x['sum'], n=x['count'], \n",
    "                                                             p=0.5, alternative='greater'),\n",
    "                                  axis=1)\n",
    "\n",
    "# they are good if the mean is greater than 0.5 and the pval is less that .05\n",
    "mperf['good'] = (mperf['mean']>0.5) & (mperf['binom_pval'] <= 0.05)\n",
    "mperf"
   ]
  },
  {
   "cell_type": "markdown",
   "metadata": {
    "slideshow": {
     "slide_type": "slide"
    }
   },
   "source": [
    "## Free recall analysis\n",
    "\n",
    "![Quail](https://raw.githubusercontent.com/ContextLab/quail/master/images/Quail_Logo_small.png)\n",
    "\n",
    "Library developed in Jeremy Manning's lab at Dartmouth."
   ]
  },
  {
   "cell_type": "markdown",
   "metadata": {
    "slideshow": {
     "slide_type": "slide"
    }
   },
   "source": [
    "## Some data processing\n",
    "\n",
    "Quail needs lists of lists indicating the study words and the recalled words."
   ]
  },
  {
   "cell_type": "code",
   "execution_count": 207,
   "metadata": {},
   "outputs": [
    {
     "data": {
      "text/html": [
       "<div>\n",
       "<style scoped>\n",
       "    .dataframe tbody tr th:only-of-type {\n",
       "        vertical-align: middle;\n",
       "    }\n",
       "\n",
       "    .dataframe tbody tr th {\n",
       "        vertical-align: top;\n",
       "    }\n",
       "\n",
       "    .dataframe thead th {\n",
       "        text-align: right;\n",
       "    }\n",
       "</style>\n",
       "<table border=\"1\" class=\"dataframe\">\n",
       "  <thead>\n",
       "    <tr style=\"text-align: right;\">\n",
       "      <th></th>\n",
       "      <th>subj</th>\n",
       "      <th>cond</th>\n",
       "      <th>block_num</th>\n",
       "      <th>word</th>\n",
       "    </tr>\n",
       "  </thead>\n",
       "  <tbody>\n",
       "    <tr>\n",
       "      <th>0</th>\n",
       "      <td>s000</td>\n",
       "      <td>Control</td>\n",
       "      <td>1</td>\n",
       "      <td>[ELM, HURRICANE, DRAW, CANDLE, FORM, STORM, RI...</td>\n",
       "    </tr>\n",
       "    <tr>\n",
       "      <th>1</th>\n",
       "      <td>s000</td>\n",
       "      <td>Control</td>\n",
       "      <td>3</td>\n",
       "      <td>[TALK, GLOVE, BEEF, LIQUID, COIN, ROOT, TAPE, ...</td>\n",
       "    </tr>\n",
       "    <tr>\n",
       "      <th>2</th>\n",
       "      <td>s000</td>\n",
       "      <td>Control</td>\n",
       "      <td>4</td>\n",
       "      <td>[COAT, POLLEN, CHILD, POUCH, FLOOR, MEAT, PICT...</td>\n",
       "    </tr>\n",
       "    <tr>\n",
       "      <th>3</th>\n",
       "      <td>s000</td>\n",
       "      <td>Control</td>\n",
       "      <td>7</td>\n",
       "      <td>[WORKING, CALL, NAME, SADDLE, WALLET, CHURCH, ...</td>\n",
       "    </tr>\n",
       "    <tr>\n",
       "      <th>4</th>\n",
       "      <td>s000</td>\n",
       "      <td>Control</td>\n",
       "      <td>9</td>\n",
       "      <td>[THRILL, FOOL, DRESS, GRIND, TELEGRAPH, FACE, ...</td>\n",
       "    </tr>\n",
       "  </tbody>\n",
       "</table>\n",
       "</div>"
      ],
      "text/plain": [
       "   subj     cond  block_num                                               word\n",
       "0  s000  Control          1  [ELM, HURRICANE, DRAW, CANDLE, FORM, STORM, RI...\n",
       "1  s000  Control          3  [TALK, GLOVE, BEEF, LIQUID, COIN, ROOT, TAPE, ...\n",
       "2  s000  Control          4  [COAT, POLLEN, CHILD, POUCH, FLOOR, MEAT, PICT...\n",
       "3  s000  Control          7  [WORKING, CALL, NAME, SADDLE, WALLET, CHURCH, ...\n",
       "4  s000  Control          9  [THRILL, FOOL, DRESS, GRIND, TELEGRAPH, FACE, ..."
      ]
     },
     "execution_count": 207,
     "metadata": {},
     "output_type": "execute_result"
    }
   ],
   "source": [
    "# grab all the study lists\n",
    "study_lists = df_s.groupby(['subj', 'cond', 'block_num'])['word'].agg(list).reset_index()\n",
    "study_lists.head()"
   ]
  },
  {
   "cell_type": "code",
   "execution_count": 209,
   "metadata": {},
   "outputs": [],
   "source": [
    "# extract a list of lists for each study list condition\n",
    "study_control = list(study_lists[study_lists['cond']=='Control']\n",
    "                     .groupby(['subj'])['word'].agg(list).reset_index()['word'])\n",
    "study_drm = list(study_lists[study_lists['cond']=='DRM']\n",
    "                     .groupby(['subj'])['word'].agg(list).reset_index()['word'])"
   ]
  },
  {
   "cell_type": "code",
   "execution_count": 34,
   "metadata": {},
   "outputs": [],
   "source": [
    "# generate lists of lists for the recalled items\n",
    "recall_lists = df_r.groupby(['subj', 'cond', 'block_num'])['response'].agg(list).reset_index()\n",
    "\n",
    "recall_control = list(recall_lists[study_lists['cond']=='Control']\n",
    "                     .groupby(['subj'])['response'].agg(list).reset_index()['response'])\n",
    "recall_drm = list(recall_lists[study_lists['cond']=='DRM']\n",
    "                     .groupby(['subj'])['response'].agg(list).reset_index()['response'])"
   ]
  },
  {
   "cell_type": "code",
   "execution_count": 79,
   "metadata": {},
   "outputs": [],
   "source": [
    "# combine the control and drm\n",
    "study_all = [sc+sd for sc,sd in zip(study_control, study_drm)]\n",
    "recall_all = [rc+rd for rc,rd in zip(recall_control, recall_drm)]\n"
   ]
  },
  {
   "cell_type": "markdown",
   "metadata": {
    "slideshow": {
     "slide_type": "slide"
    }
   },
   "source": [
    "## Make some eggs"
   ]
  },
  {
   "cell_type": "code",
   "execution_count": 80,
   "metadata": {},
   "outputs": [
    {
     "name": "stdout",
     "output_type": "stream",
     "text": [
      "Number of subjects: 13\n",
      "Number of lists per subject: 10\n",
      "Number of words per list: 12\n",
      "Date created: Wed Nov 10 22:28:48 2021\n",
      "Meta data: {}\n"
     ]
    }
   ],
   "source": [
    "# create quail eggs\n",
    "egg_control = quail.Egg(pres=study_control, rec=recall_control)\n",
    "egg_drm = quail.Egg(pres=study_drm, rec=recall_drm)\n",
    "egg_all = quail.Egg(pres=study_all, rec=recall_all)\n",
    "egg_all.info()"
   ]
  },
  {
   "cell_type": "code",
   "execution_count": 88,
   "metadata": {},
   "outputs": [],
   "source": [
    "# set up the list groups\n",
    "# first lists per subj are Control, next are DRM\n",
    "listgroup = ['Control']*egg_control.n_lists + ['DRM']*egg_drm.n_lists"
   ]
  },
  {
   "cell_type": "markdown",
   "metadata": {
    "slideshow": {
     "slide_type": "slide"
    }
   },
   "source": [
    "## Overall accuracy as a function of condition"
   ]
  },
  {
   "cell_type": "code",
   "execution_count": 105,
   "metadata": {},
   "outputs": [
    {
     "data": {
      "text/plain": [
       "<AxesSubplot:xlabel='List', ylabel='Accuracy'>"
      ]
     },
     "execution_count": 105,
     "metadata": {},
     "output_type": "execute_result"
    },
    {
     "data": {
      "image/png": "[encoded data removed]",
      "text/plain": [
       "<Figure size 432x288 with 1 Axes>"
      ]
     },
     "metadata": {
      "needs_background": "light"
     },
     "output_type": "display_data"
    }
   ],
   "source": [
    "acc = quail.analyze(egg_all, analysis='accuracy', \n",
    "                    listgroup=listgroup)\n",
    "acc.plot()  # not a within-subj corrected errorbar"
   ]
  },
  {
   "cell_type": "code",
   "execution_count": 211,
   "metadata": {},
   "outputs": [
    {
     "data": {
      "text/html": [
       "<div>\n",
       "<style scoped>\n",
       "    .dataframe tbody tr th:only-of-type {\n",
       "        vertical-align: middle;\n",
       "    }\n",
       "\n",
       "    .dataframe tbody tr th {\n",
       "        vertical-align: top;\n",
       "    }\n",
       "\n",
       "    .dataframe thead th {\n",
       "        text-align: right;\n",
       "    }\n",
       "</style>\n",
       "<table border=\"1\" class=\"dataframe\">\n",
       "  <thead>\n",
       "    <tr style=\"text-align: right;\">\n",
       "      <th></th>\n",
       "      <th>Subject</th>\n",
       "      <th>List</th>\n",
       "      <th>Accuracy</th>\n",
       "    </tr>\n",
       "  </thead>\n",
       "  <tbody>\n",
       "    <tr>\n",
       "      <th>0</th>\n",
       "      <td>0</td>\n",
       "      <td>Control</td>\n",
       "      <td>0.283333</td>\n",
       "    </tr>\n",
       "    <tr>\n",
       "      <th>1</th>\n",
       "      <td>0</td>\n",
       "      <td>DRM</td>\n",
       "      <td>0.516667</td>\n",
       "    </tr>\n",
       "    <tr>\n",
       "      <th>2</th>\n",
       "      <td>1</td>\n",
       "      <td>Control</td>\n",
       "      <td>0.316667</td>\n",
       "    </tr>\n",
       "    <tr>\n",
       "      <th>3</th>\n",
       "      <td>1</td>\n",
       "      <td>DRM</td>\n",
       "      <td>0.500000</td>\n",
       "    </tr>\n",
       "    <tr>\n",
       "      <th>4</th>\n",
       "      <td>2</td>\n",
       "      <td>Control</td>\n",
       "      <td>0.366667</td>\n",
       "    </tr>\n",
       "  </tbody>\n",
       "</table>\n",
       "</div>"
      ],
      "text/plain": [
       "   Subject     List  Accuracy\n",
       "0        0  Control  0.283333\n",
       "1        0      DRM  0.516667\n",
       "2        1  Control  0.316667\n",
       "3        1      DRM  0.500000\n",
       "4        2  Control  0.366667"
      ]
     },
     "execution_count": 211,
     "metadata": {},
     "output_type": "execute_result"
    }
   ],
   "source": [
    "# extract accuracy values from the analysis (and fix the column)\n",
    "acc_df = acc.get_data().reset_index()\n",
    "cols = list(acc_df.columns)\n",
    "cols[2] = 'Accuracy'\n",
    "acc_df.columns = cols\n",
    "acc_df.head()"
   ]
  },
  {
   "cell_type": "code",
   "execution_count": 121,
   "metadata": {},
   "outputs": [
    {
     "data": {
      "text/html": [
       "<table class=\"simpletable\">\n",
       "<caption>OLS Regression Results</caption>\n",
       "<tr>\n",
       "  <th>Dep. Variable:</th>        <td>Accuracy</td>     <th>  R-squared:         </th> <td>   0.111</td>\n",
       "</tr>\n",
       "<tr>\n",
       "  <th>Model:</th>                   <td>OLS</td>       <th>  Adj. R-squared:    </th> <td>   0.074</td>\n",
       "</tr>\n",
       "<tr>\n",
       "  <th>Method:</th>             <td>Least Squares</td>  <th>  F-statistic:       </th> <td>   3.011</td>\n",
       "</tr>\n",
       "<tr>\n",
       "  <th>Date:</th>             <td>Wed, 10 Nov 2021</td> <th>  Prob (F-statistic):</th>  <td>0.0955</td> \n",
       "</tr>\n",
       "<tr>\n",
       "  <th>Time:</th>                 <td>23:08:15</td>     <th>  Log-Likelihood:    </th> <td>  9.4389</td>\n",
       "</tr>\n",
       "<tr>\n",
       "  <th>No. Observations:</th>      <td>    26</td>      <th>  AIC:               </th> <td>  -14.88</td>\n",
       "</tr>\n",
       "<tr>\n",
       "  <th>Df Residuals:</th>          <td>    24</td>      <th>  BIC:               </th> <td>  -12.36</td>\n",
       "</tr>\n",
       "<tr>\n",
       "  <th>Df Model:</th>              <td>     1</td>      <th>                     </th>     <td> </td>   \n",
       "</tr>\n",
       "<tr>\n",
       "  <th>Covariance Type:</th>      <td>nonrobust</td>    <th>                     </th>     <td> </td>   \n",
       "</tr>\n",
       "</table>\n",
       "<table class=\"simpletable\">\n",
       "<tr>\n",
       "       <td></td>          <th>coef</th>     <th>std err</th>      <th>t</th>      <th>P>|t|</th>  <th>[0.025</th>    <th>0.975]</th>  \n",
       "</tr>\n",
       "<tr>\n",
       "  <th>Intercept</th>   <td>    0.5038</td> <td>    0.049</td> <td>   10.370</td> <td> 0.000</td> <td>    0.404</td> <td>    0.604</td>\n",
       "</tr>\n",
       "<tr>\n",
       "  <th>List[T.DRM]</th> <td>    0.1192</td> <td>    0.069</td> <td>    1.735</td> <td> 0.096</td> <td>   -0.023</td> <td>    0.261</td>\n",
       "</tr>\n",
       "</table>\n",
       "<table class=\"simpletable\">\n",
       "<tr>\n",
       "  <th>Omnibus:</th>       <td> 3.313</td> <th>  Durbin-Watson:     </th> <td>   0.882</td>\n",
       "</tr>\n",
       "<tr>\n",
       "  <th>Prob(Omnibus):</th> <td> 0.191</td> <th>  Jarque-Bera (JB):  </th> <td>   2.240</td>\n",
       "</tr>\n",
       "<tr>\n",
       "  <th>Skew:</th>          <td> 0.716</td> <th>  Prob(JB):          </th> <td>   0.326</td>\n",
       "</tr>\n",
       "<tr>\n",
       "  <th>Kurtosis:</th>      <td> 3.127</td> <th>  Cond. No.          </th> <td>    2.62</td>\n",
       "</tr>\n",
       "</table><br/><br/>Notes:<br/>[1] Standard Errors assume that the covariance matrix of the errors is correctly specified."
      ],
      "text/plain": [
       "<class 'statsmodels.iolib.summary.Summary'>\n",
       "\"\"\"\n",
       "                            OLS Regression Results                            \n",
       "==============================================================================\n",
       "Dep. Variable:               Accuracy   R-squared:                       0.111\n",
       "Model:                            OLS   Adj. R-squared:                  0.074\n",
       "Method:                 Least Squares   F-statistic:                     3.011\n",
       "Date:                Wed, 10 Nov 2021   Prob (F-statistic):             0.0955\n",
       "Time:                        23:08:15   Log-Likelihood:                 9.4389\n",
       "No. Observations:                  26   AIC:                            -14.88\n",
       "Df Residuals:                      24   BIC:                            -12.36\n",
       "Df Model:                           1                                         \n",
       "Covariance Type:            nonrobust                                         \n",
       "===============================================================================\n",
       "                  coef    std err          t      P>|t|      [0.025      0.975]\n",
       "-------------------------------------------------------------------------------\n",
       "Intercept       0.5038      0.049     10.370      0.000       0.404       0.604\n",
       "List[T.DRM]     0.1192      0.069      1.735      0.096      -0.023       0.261\n",
       "==============================================================================\n",
       "Omnibus:                        3.313   Durbin-Watson:                   0.882\n",
       "Prob(Omnibus):                  0.191   Jarque-Bera (JB):                2.240\n",
       "Skew:                           0.716   Prob(JB):                        0.326\n",
       "Kurtosis:                       3.127   Cond. No.                         2.62\n",
       "==============================================================================\n",
       "\n",
       "Notes:\n",
       "[1] Standard Errors assume that the covariance matrix of the errors is correctly specified.\n",
       "\"\"\""
      ]
     },
     "execution_count": 121,
     "metadata": {},
     "output_type": "execute_result"
    }
   ],
   "source": [
    "# test for significant effect of list condition\n",
    "model = smf.ols(\"Accuracy ~ List\", acc_df).fit()\n",
    "model.summary()"
   ]
  },
  {
   "cell_type": "markdown",
   "metadata": {},
   "source": [
    "### Signs of a trend in accuracy difference"
   ]
  },
  {
   "cell_type": "markdown",
   "metadata": {
    "slideshow": {
     "slide_type": "slide"
    }
   },
   "source": [
    "## Serial Position Curve\n",
    "\n",
    "We can analyze recall as a function of serial position to see whether there are primacy and recency effects. \n",
    "\n",
    "The fast presentation rate should have attenuated primacy.\n",
    "\n",
    "The math distractor should have attenuated recency."
   ]
  },
  {
   "cell_type": "code",
   "execution_count": 94,
   "metadata": {},
   "outputs": [
    {
     "data": {
      "text/plain": [
       "<AxesSubplot:xlabel='Position', ylabel='Proportion Recalled'>"
      ]
     },
     "execution_count": 94,
     "metadata": {},
     "output_type": "execute_result"
    },
    {
     "data": {
      "image/png": "[encoded data removed]",
      "text/plain": [
       "<Figure size 432x288 with 1 Axes>"
      ]
     },
     "metadata": {
      "needs_background": "light"
     },
     "output_type": "display_data"
    }
   ],
   "source": [
    "spc = quail.analyze(egg_all, analysis='spc', \n",
    "                    listgroup=listgroup)\n",
    "spc.plot()"
   ]
  },
  {
   "cell_type": "markdown",
   "metadata": {
    "slideshow": {
     "slide_type": "slide"
    }
   },
   "source": [
    "## Probability of First Recall\n",
    "\n",
    "Instead of collapsing the data over all recalls, we can evaluate how participants initiate recall. This provides insight as to what type of cue they are using to start the recall process."
   ]
  },
  {
   "cell_type": "code",
   "execution_count": 95,
   "metadata": {},
   "outputs": [
    {
     "data": {
      "text/plain": [
       "<AxesSubplot:xlabel='Position', ylabel='Probability of Recall: Position 0'>"
      ]
     },
     "execution_count": 95,
     "metadata": {},
     "output_type": "execute_result"
    },
    {
     "data": {
      "image/png": "[encoded data removed]",
      "text/plain": [
       "<Figure size 432x288 with 1 Axes>"
      ]
     },
     "metadata": {
      "needs_background": "light"
     },
     "output_type": "display_data"
    }
   ],
   "source": [
    "pfr = quail.analyze(egg_all, analysis='pfr', \n",
    "                    listgroup=listgroup)\n",
    "pfr.plot()"
   ]
  },
  {
   "cell_type": "markdown",
   "metadata": {},
   "source": [
    "### There is some evidence for primacy and initiating recall with the start of the list"
   ]
  },
  {
   "cell_type": "markdown",
   "metadata": {
    "slideshow": {
     "slide_type": "slide"
    }
   },
   "source": [
    "## Conditional Response Probability\n",
    "\n",
    "Kahana (1996) developed a way to analyze recall trajectories. For a recall at any givin serial position, the method calculates the probability of the next recall being from any of the other serial positions.\n",
    "\n",
    "Usually demonstrates two phenomena: \n",
    "\n",
    "1. **Contiguity**: That participants tend to transition to nearby serial positions.\n",
    "2. **Forward Asymmetry**: That participants transition more in the forward than backwards direction"
   ]
  },
  {
   "cell_type": "code",
   "execution_count": 96,
   "metadata": {},
   "outputs": [
    {
     "name": "stderr",
     "output_type": "stream",
     "text": [
      "/home/per/anaconda3/envs/smile/lib/python3.9/site-packages/quail/analysis/lagcrp.py:129: RuntimeWarning: Mean of empty slice\n"
     ]
    },
    {
     "data": {
      "text/plain": [
       "<AxesSubplot:xlabel='Position', ylabel='Conditional Response Probability'>"
      ]
     },
     "execution_count": 96,
     "metadata": {},
     "output_type": "execute_result"
    },
    {
     "data": {
      "image/png": "[encoded data removed]",
      "text/plain": [
       "<Figure size 432x288 with 1 Axes>"
      ]
     },
     "metadata": {
      "needs_background": "light"
     },
     "output_type": "display_data"
    }
   ],
   "source": [
    "crp = quail.analyze(egg_all, analysis='lagcrp', \n",
    "                    listgroup=listgroup)\n",
    "crp.plot()"
   ]
  },
  {
   "cell_type": "markdown",
   "metadata": {
    "slideshow": {
     "slide_type": "slide"
    }
   },
   "source": [
    "## Temporal Factor\n",
    "\n",
    "It's hard to summarize the full CRP, so we developed an approach to quantifying the degree of temporal clustering. \n",
    "\n",
    "Here, a temporal factor of 0.5 means that you spread your recalls equally throughout the list. Values greater than 0.5 mean that you transition to nearby items (i.e., contiguity)"
   ]
  },
  {
   "cell_type": "code",
   "execution_count": 97,
   "metadata": {},
   "outputs": [
    {
     "data": {
      "text/plain": [
       "<matplotlib.lines.Line2D at 0x7fbe132e3c40>"
      ]
     },
     "execution_count": 97,
     "metadata": {},
     "output_type": "execute_result"
    },
    {
     "data": {
      "image/png": "[encoded data removed]",
      "text/plain": [
       "<Figure size 432x288 with 1 Axes>"
      ]
     },
     "metadata": {
      "needs_background": "light"
     },
     "output_type": "display_data"
    }
   ],
   "source": [
    "tfact = quail.analyze(egg_all, analysis='temporal', \n",
    "                      listgroup=listgroup)\n",
    "ax = tfact.plot(plot_style='violin')\n",
    "ax.axhline(0.5, color='k')"
   ]
  },
  {
   "cell_type": "code",
   "execution_count": 135,
   "metadata": {},
   "outputs": [
    {
     "data": {
      "text/html": [
       "<div>\n",
       "<style scoped>\n",
       "    .dataframe tbody tr th:only-of-type {\n",
       "        vertical-align: middle;\n",
       "    }\n",
       "\n",
       "    .dataframe tbody tr th {\n",
       "        vertical-align: top;\n",
       "    }\n",
       "\n",
       "    .dataframe thead th {\n",
       "        text-align: right;\n",
       "    }\n",
       "</style>\n",
       "<table border=\"1\" class=\"dataframe\">\n",
       "  <thead>\n",
       "    <tr style=\"text-align: right;\">\n",
       "      <th></th>\n",
       "      <th>Subject</th>\n",
       "      <th>List</th>\n",
       "      <th>TemFact</th>\n",
       "    </tr>\n",
       "  </thead>\n",
       "  <tbody>\n",
       "    <tr>\n",
       "      <th>0</th>\n",
       "      <td>0</td>\n",
       "      <td>Control</td>\n",
       "      <td>0.738737</td>\n",
       "    </tr>\n",
       "    <tr>\n",
       "      <th>1</th>\n",
       "      <td>0</td>\n",
       "      <td>DRM</td>\n",
       "      <td>0.607766</td>\n",
       "    </tr>\n",
       "    <tr>\n",
       "      <th>2</th>\n",
       "      <td>1</td>\n",
       "      <td>Control</td>\n",
       "      <td>0.538030</td>\n",
       "    </tr>\n",
       "    <tr>\n",
       "      <th>3</th>\n",
       "      <td>1</td>\n",
       "      <td>DRM</td>\n",
       "      <td>0.548819</td>\n",
       "    </tr>\n",
       "    <tr>\n",
       "      <th>4</th>\n",
       "      <td>2</td>\n",
       "      <td>Control</td>\n",
       "      <td>0.562283</td>\n",
       "    </tr>\n",
       "  </tbody>\n",
       "</table>\n",
       "</div>"
      ],
      "text/plain": [
       "   Subject     List   TemFact\n",
       "0        0  Control  0.738737\n",
       "1        0      DRM  0.607766\n",
       "2        1  Control  0.538030\n",
       "3        1      DRM  0.548819\n",
       "4        2  Control  0.562283"
      ]
     },
     "execution_count": 135,
     "metadata": {},
     "output_type": "execute_result"
    }
   ],
   "source": [
    "# Now we can test for significance\n",
    "tf_df = tfact.get_data().reset_index()\n",
    "cols = list(tf_df.columns)\n",
    "cols[2] = 'TemFact'\n",
    "tf_df.columns = cols\n",
    "tf_df.head()"
   ]
  },
  {
   "cell_type": "code",
   "execution_count": 130,
   "metadata": {},
   "outputs": [
    {
     "data": {
      "text/html": [
       "<table class=\"simpletable\">\n",
       "<caption>OLS Regression Results</caption>\n",
       "<tr>\n",
       "  <th>Dep. Variable:</th>         <td>TemFact</td>     <th>  R-squared:         </th> <td>   0.175</td>\n",
       "</tr>\n",
       "<tr>\n",
       "  <th>Model:</th>                   <td>OLS</td>       <th>  Adj. R-squared:    </th> <td>   0.141</td>\n",
       "</tr>\n",
       "<tr>\n",
       "  <th>Method:</th>             <td>Least Squares</td>  <th>  F-statistic:       </th> <td>   5.100</td>\n",
       "</tr>\n",
       "<tr>\n",
       "  <th>Date:</th>             <td>Wed, 10 Nov 2021</td> <th>  Prob (F-statistic):</th>  <td>0.0333</td> \n",
       "</tr>\n",
       "<tr>\n",
       "  <th>Time:</th>                 <td>23:11:33</td>     <th>  Log-Likelihood:    </th> <td>  31.156</td>\n",
       "</tr>\n",
       "<tr>\n",
       "  <th>No. Observations:</th>      <td>    26</td>      <th>  AIC:               </th> <td>  -58.31</td>\n",
       "</tr>\n",
       "<tr>\n",
       "  <th>Df Residuals:</th>          <td>    24</td>      <th>  BIC:               </th> <td>  -55.80</td>\n",
       "</tr>\n",
       "<tr>\n",
       "  <th>Df Model:</th>              <td>     1</td>      <th>                     </th>     <td> </td>   \n",
       "</tr>\n",
       "<tr>\n",
       "  <th>Covariance Type:</th>      <td>nonrobust</td>    <th>                     </th>     <td> </td>   \n",
       "</tr>\n",
       "</table>\n",
       "<table class=\"simpletable\">\n",
       "<tr>\n",
       "       <td></td>          <th>coef</th>     <th>std err</th>      <th>t</th>      <th>P>|t|</th>  <th>[0.025</th>    <th>0.975]</th>  \n",
       "</tr>\n",
       "<tr>\n",
       "  <th>Intercept</th>   <td>    0.6368</td> <td>    0.021</td> <td>   30.218</td> <td> 0.000</td> <td>    0.593</td> <td>    0.680</td>\n",
       "</tr>\n",
       "<tr>\n",
       "  <th>List[T.DRM]</th> <td>   -0.0673</td> <td>    0.030</td> <td>   -2.258</td> <td> 0.033</td> <td>   -0.129</td> <td>   -0.006</td>\n",
       "</tr>\n",
       "</table>\n",
       "<table class=\"simpletable\">\n",
       "<tr>\n",
       "  <th>Omnibus:</th>       <td> 0.689</td> <th>  Durbin-Watson:     </th> <td>   1.342</td>\n",
       "</tr>\n",
       "<tr>\n",
       "  <th>Prob(Omnibus):</th> <td> 0.708</td> <th>  Jarque-Bera (JB):  </th> <td>   0.738</td>\n",
       "</tr>\n",
       "<tr>\n",
       "  <th>Skew:</th>          <td> 0.218</td> <th>  Prob(JB):          </th> <td>   0.691</td>\n",
       "</tr>\n",
       "<tr>\n",
       "  <th>Kurtosis:</th>      <td> 2.299</td> <th>  Cond. No.          </th> <td>    2.62</td>\n",
       "</tr>\n",
       "</table><br/><br/>Notes:<br/>[1] Standard Errors assume that the covariance matrix of the errors is correctly specified."
      ],
      "text/plain": [
       "<class 'statsmodels.iolib.summary.Summary'>\n",
       "\"\"\"\n",
       "                            OLS Regression Results                            \n",
       "==============================================================================\n",
       "Dep. Variable:                TemFact   R-squared:                       0.175\n",
       "Model:                            OLS   Adj. R-squared:                  0.141\n",
       "Method:                 Least Squares   F-statistic:                     5.100\n",
       "Date:                Wed, 10 Nov 2021   Prob (F-statistic):             0.0333\n",
       "Time:                        23:11:33   Log-Likelihood:                 31.156\n",
       "No. Observations:                  26   AIC:                            -58.31\n",
       "Df Residuals:                      24   BIC:                            -55.80\n",
       "Df Model:                           1                                         \n",
       "Covariance Type:            nonrobust                                         \n",
       "===============================================================================\n",
       "                  coef    std err          t      P>|t|      [0.025      0.975]\n",
       "-------------------------------------------------------------------------------\n",
       "Intercept       0.6368      0.021     30.218      0.000       0.593       0.680\n",
       "List[T.DRM]    -0.0673      0.030     -2.258      0.033      -0.129      -0.006\n",
       "==============================================================================\n",
       "Omnibus:                        0.689   Durbin-Watson:                   1.342\n",
       "Prob(Omnibus):                  0.708   Jarque-Bera (JB):                0.738\n",
       "Skew:                           0.218   Prob(JB):                        0.691\n",
       "Kurtosis:                       2.299   Cond. No.                         2.62\n",
       "==============================================================================\n",
       "\n",
       "Notes:\n",
       "[1] Standard Errors assume that the covariance matrix of the errors is correctly specified.\n",
       "\"\"\""
      ]
     },
     "execution_count": 130,
     "metadata": {},
     "output_type": "execute_result"
    }
   ],
   "source": [
    "model = smf.ols(\"TemFact ~ List\", tf_df).fit()\n",
    "model.summary()"
   ]
  },
  {
   "cell_type": "markdown",
   "metadata": {},
   "source": [
    "### Significant drop in temporal clustering for DRM lists with semantically-related words"
   ]
  },
  {
   "cell_type": "markdown",
   "metadata": {
    "slideshow": {
     "slide_type": "slide"
    }
   },
   "source": [
    "## False Recall\n",
    "\n",
    "Each DRM list has a \"Critical Word\" that was not on the list, but is related to all the other items on the list.\n",
    "\n",
    "This can induce false memories of the items actually being presented."
   ]
  },
  {
   "cell_type": "code",
   "execution_count": 212,
   "metadata": {},
   "outputs": [
    {
     "data": {
      "text/html": [
       "<div>\n",
       "<style scoped>\n",
       "    .dataframe tbody tr th:only-of-type {\n",
       "        vertical-align: middle;\n",
       "    }\n",
       "\n",
       "    .dataframe tbody tr th {\n",
       "        vertical-align: top;\n",
       "    }\n",
       "\n",
       "    .dataframe thead th {\n",
       "        text-align: right;\n",
       "    }\n",
       "</style>\n",
       "<table border=\"1\" class=\"dataframe\">\n",
       "  <thead>\n",
       "    <tr style=\"text-align: right;\">\n",
       "      <th></th>\n",
       "      <th>block_num</th>\n",
       "      <th>trial_num</th>\n",
       "      <th>stim_on_time</th>\n",
       "      <th>stim_on_error</th>\n",
       "      <th>log_time</th>\n",
       "      <th>word</th>\n",
       "      <th>cond</th>\n",
       "      <th>serial_pos</th>\n",
       "      <th>critical_word</th>\n",
       "      <th>subj</th>\n",
       "      <th>log_num</th>\n",
       "    </tr>\n",
       "  </thead>\n",
       "  <tbody>\n",
       "    <tr>\n",
       "      <th>0</th>\n",
       "      <td>0</td>\n",
       "      <td>0</td>\n",
       "      <td>48.497539</td>\n",
       "      <td>0.0</td>\n",
       "      <td>50.591471</td>\n",
       "      <td>COUNTRY</td>\n",
       "      <td>DRM</td>\n",
       "      <td>1</td>\n",
       "      <td>CITY</td>\n",
       "      <td>s000</td>\n",
       "      <td>0</td>\n",
       "    </tr>\n",
       "    <tr>\n",
       "      <th>1</th>\n",
       "      <td>0</td>\n",
       "      <td>1</td>\n",
       "      <td>50.607072</td>\n",
       "      <td>0.0</td>\n",
       "      <td>52.466492</td>\n",
       "      <td>STREET</td>\n",
       "      <td>DRM</td>\n",
       "      <td>2</td>\n",
       "      <td>CITY</td>\n",
       "      <td>s000</td>\n",
       "      <td>0</td>\n",
       "    </tr>\n",
       "    <tr>\n",
       "      <th>2</th>\n",
       "      <td>0</td>\n",
       "      <td>2</td>\n",
       "      <td>52.480423</td>\n",
       "      <td>0.0</td>\n",
       "      <td>54.377311</td>\n",
       "      <td>VILLAGE</td>\n",
       "      <td>DRM</td>\n",
       "      <td>3</td>\n",
       "      <td>CITY</td>\n",
       "      <td>s000</td>\n",
       "      <td>0</td>\n",
       "    </tr>\n",
       "    <tr>\n",
       "      <th>3</th>\n",
       "      <td>0</td>\n",
       "      <td>3</td>\n",
       "      <td>54.391027</td>\n",
       "      <td>0.0</td>\n",
       "      <td>56.567661</td>\n",
       "      <td>STATE</td>\n",
       "      <td>DRM</td>\n",
       "      <td>4</td>\n",
       "      <td>CITY</td>\n",
       "      <td>s000</td>\n",
       "      <td>0</td>\n",
       "    </tr>\n",
       "    <tr>\n",
       "      <th>4</th>\n",
       "      <td>0</td>\n",
       "      <td>4</td>\n",
       "      <td>56.579191</td>\n",
       "      <td>0.0</td>\n",
       "      <td>58.497010</td>\n",
       "      <td>CHICAGO</td>\n",
       "      <td>DRM</td>\n",
       "      <td>5</td>\n",
       "      <td>CITY</td>\n",
       "      <td>s000</td>\n",
       "      <td>0</td>\n",
       "    </tr>\n",
       "  </tbody>\n",
       "</table>\n",
       "</div>"
      ],
      "text/plain": [
       "   block_num  trial_num  stim_on_time  stim_on_error   log_time     word cond  \\\n",
       "0          0          0     48.497539            0.0  50.591471  COUNTRY  DRM   \n",
       "1          0          1     50.607072            0.0  52.466492   STREET  DRM   \n",
       "2          0          2     52.480423            0.0  54.377311  VILLAGE  DRM   \n",
       "3          0          3     54.391027            0.0  56.567661    STATE  DRM   \n",
       "4          0          4     56.579191            0.0  58.497010  CHICAGO  DRM   \n",
       "\n",
       "   serial_pos critical_word  subj  log_num  \n",
       "0           1          CITY  s000        0  \n",
       "1           2          CITY  s000        0  \n",
       "2           3          CITY  s000        0  \n",
       "3           4          CITY  s000        0  \n",
       "4           5          CITY  s000        0  "
      ]
     },
     "execution_count": 212,
     "metadata": {},
     "output_type": "execute_result"
    }
   ],
   "source": [
    "# convert the critical word to all caps\n",
    "df_s['critical_word'] = df_s['critical_word'].str.upper()\n",
    "df_s.head()"
   ]
  },
  {
   "cell_type": "code",
   "execution_count": 185,
   "metadata": {},
   "outputs": [
    {
     "data": {
      "text/html": [
       "<div>\n",
       "<style scoped>\n",
       "    .dataframe tbody tr th:only-of-type {\n",
       "        vertical-align: middle;\n",
       "    }\n",
       "\n",
       "    .dataframe tbody tr th {\n",
       "        vertical-align: top;\n",
       "    }\n",
       "\n",
       "    .dataframe thead th {\n",
       "        text-align: right;\n",
       "    }\n",
       "</style>\n",
       "<table border=\"1\" class=\"dataframe\">\n",
       "  <thead>\n",
       "    <tr style=\"text-align: right;\">\n",
       "      <th></th>\n",
       "      <th>subj</th>\n",
       "      <th>block_num</th>\n",
       "      <th>critical_word</th>\n",
       "    </tr>\n",
       "  </thead>\n",
       "  <tbody>\n",
       "    <tr>\n",
       "      <th>0</th>\n",
       "      <td>s000</td>\n",
       "      <td>0</td>\n",
       "      <td>CITY</td>\n",
       "    </tr>\n",
       "    <tr>\n",
       "      <th>24</th>\n",
       "      <td>s000</td>\n",
       "      <td>2</td>\n",
       "      <td>SOFT</td>\n",
       "    </tr>\n",
       "    <tr>\n",
       "      <th>60</th>\n",
       "      <td>s000</td>\n",
       "      <td>5</td>\n",
       "      <td>CUP</td>\n",
       "    </tr>\n",
       "    <tr>\n",
       "      <th>72</th>\n",
       "      <td>s000</td>\n",
       "      <td>6</td>\n",
       "      <td>ROUGH</td>\n",
       "    </tr>\n",
       "    <tr>\n",
       "      <th>96</th>\n",
       "      <td>s000</td>\n",
       "      <td>8</td>\n",
       "      <td>SWEET</td>\n",
       "    </tr>\n",
       "  </tbody>\n",
       "</table>\n",
       "</div>"
      ],
      "text/plain": [
       "    subj  block_num critical_word\n",
       "0   s000          0          CITY\n",
       "24  s000          2          SOFT\n",
       "60  s000          5           CUP\n",
       "72  s000          6         ROUGH\n",
       "96  s000          8         SWEET"
      ]
     },
     "execution_count": 185,
     "metadata": {},
     "output_type": "execute_result"
    }
   ],
   "source": [
    "# extract the critical word for each DRM list\n",
    "drm_cr = df_s.loc[(df_s['trial_num']==0)&(df_s['cond']=='DRM'), \n",
    "                  ['subj', 'block_num', 'critical_word']]\n",
    "drm_cr.head()"
   ]
  },
  {
   "cell_type": "code",
   "execution_count": 195,
   "metadata": {},
   "outputs": [
    {
     "data": {
      "text/html": [
       "<div>\n",
       "<style scoped>\n",
       "    .dataframe tbody tr th:only-of-type {\n",
       "        vertical-align: middle;\n",
       "    }\n",
       "\n",
       "    .dataframe tbody tr th {\n",
       "        vertical-align: top;\n",
       "    }\n",
       "\n",
       "    .dataframe thead th {\n",
       "        text-align: right;\n",
       "    }\n",
       "</style>\n",
       "<table border=\"1\" class=\"dataframe\">\n",
       "  <thead>\n",
       "    <tr style=\"text-align: right;\">\n",
       "      <th></th>\n",
       "      <th>subj</th>\n",
       "      <th>block_num</th>\n",
       "      <th>critical_word</th>\n",
       "      <th>recalled</th>\n",
       "    </tr>\n",
       "  </thead>\n",
       "  <tbody>\n",
       "    <tr>\n",
       "      <th>0</th>\n",
       "      <td>s000</td>\n",
       "      <td>0</td>\n",
       "      <td>CITY</td>\n",
       "      <td>False</td>\n",
       "    </tr>\n",
       "    <tr>\n",
       "      <th>1</th>\n",
       "      <td>s000</td>\n",
       "      <td>2</td>\n",
       "      <td>SOFT</td>\n",
       "      <td>False</td>\n",
       "    </tr>\n",
       "    <tr>\n",
       "      <th>2</th>\n",
       "      <td>s000</td>\n",
       "      <td>5</td>\n",
       "      <td>CUP</td>\n",
       "      <td>False</td>\n",
       "    </tr>\n",
       "    <tr>\n",
       "      <th>3</th>\n",
       "      <td>s000</td>\n",
       "      <td>6</td>\n",
       "      <td>ROUGH</td>\n",
       "      <td>False</td>\n",
       "    </tr>\n",
       "    <tr>\n",
       "      <th>4</th>\n",
       "      <td>s000</td>\n",
       "      <td>8</td>\n",
       "      <td>SWEET</td>\n",
       "      <td>True</td>\n",
       "    </tr>\n",
       "    <tr>\n",
       "      <th>...</th>\n",
       "      <td>...</td>\n",
       "      <td>...</td>\n",
       "      <td>...</td>\n",
       "      <td>...</td>\n",
       "    </tr>\n",
       "    <tr>\n",
       "      <th>60</th>\n",
       "      <td>s012</td>\n",
       "      <td>2</td>\n",
       "      <td>SLOW</td>\n",
       "      <td>True</td>\n",
       "    </tr>\n",
       "    <tr>\n",
       "      <th>61</th>\n",
       "      <td>s012</td>\n",
       "      <td>5</td>\n",
       "      <td>SWEET</td>\n",
       "      <td>False</td>\n",
       "    </tr>\n",
       "    <tr>\n",
       "      <th>62</th>\n",
       "      <td>s012</td>\n",
       "      <td>6</td>\n",
       "      <td>MOUNTAIN</td>\n",
       "      <td>False</td>\n",
       "    </tr>\n",
       "    <tr>\n",
       "      <th>63</th>\n",
       "      <td>s012</td>\n",
       "      <td>7</td>\n",
       "      <td>CUP</td>\n",
       "      <td>False</td>\n",
       "    </tr>\n",
       "    <tr>\n",
       "      <th>64</th>\n",
       "      <td>s012</td>\n",
       "      <td>9</td>\n",
       "      <td>DOCTOR</td>\n",
       "      <td>False</td>\n",
       "    </tr>\n",
       "  </tbody>\n",
       "</table>\n",
       "<p>65 rows × 4 columns</p>\n",
       "</div>"
      ],
      "text/plain": [
       "    subj  block_num critical_word  recalled\n",
       "0   s000          0          CITY     False\n",
       "1   s000          2          SOFT     False\n",
       "2   s000          5           CUP     False\n",
       "3   s000          6         ROUGH     False\n",
       "4   s000          8         SWEET      True\n",
       "..   ...        ...           ...       ...\n",
       "60  s012          2          SLOW      True\n",
       "61  s012          5         SWEET     False\n",
       "62  s012          6      MOUNTAIN     False\n",
       "63  s012          7           CUP     False\n",
       "64  s012          9        DOCTOR     False\n",
       "\n",
       "[65 rows x 4 columns]"
      ]
     },
     "execution_count": 195,
     "metadata": {},
     "output_type": "execute_result"
    }
   ],
   "source": [
    "# loop over each drm list and see if the subj recalled that critical word\n",
    "cw_recs = []\n",
    "for i, cw in drm_cr.iterrows():\n",
    "    ind = (df_r['subj']==cw['subj']) & (df_r['block_num']==cw['block_num'])\n",
    "    recalls = df_r.loc[ind, 'response']\n",
    "    cr_recalled = cw['critical_word'] in recalls.unique()\n",
    "    cw_recs.append({'subj': cw['subj'],\n",
    "                    'block_num': cw['block_num'],\n",
    "                    'critical_word': cw['critical_word'],\n",
    "                    'recalled': cr_recalled})\n",
    "cw_recs = pd.DataFrame(cw_recs)\n",
    "cw_recs"
   ]
  },
  {
   "cell_type": "code",
   "execution_count": 203,
   "metadata": {},
   "outputs": [
    {
     "data": {
      "text/html": [
       "<div>\n",
       "<style scoped>\n",
       "    .dataframe tbody tr th:only-of-type {\n",
       "        vertical-align: middle;\n",
       "    }\n",
       "\n",
       "    .dataframe tbody tr th {\n",
       "        vertical-align: top;\n",
       "    }\n",
       "\n",
       "    .dataframe thead th {\n",
       "        text-align: right;\n",
       "    }\n",
       "</style>\n",
       "<table border=\"1\" class=\"dataframe\">\n",
       "  <thead>\n",
       "    <tr style=\"text-align: right;\">\n",
       "      <th></th>\n",
       "      <th>subj</th>\n",
       "      <th>recalled</th>\n",
       "    </tr>\n",
       "  </thead>\n",
       "  <tbody>\n",
       "    <tr>\n",
       "      <th>0</th>\n",
       "      <td>s000</td>\n",
       "      <td>0.2</td>\n",
       "    </tr>\n",
       "    <tr>\n",
       "      <th>1</th>\n",
       "      <td>s001</td>\n",
       "      <td>0.2</td>\n",
       "    </tr>\n",
       "    <tr>\n",
       "      <th>2</th>\n",
       "      <td>s002</td>\n",
       "      <td>0.2</td>\n",
       "    </tr>\n",
       "    <tr>\n",
       "      <th>3</th>\n",
       "      <td>s003</td>\n",
       "      <td>0.0</td>\n",
       "    </tr>\n",
       "    <tr>\n",
       "      <th>4</th>\n",
       "      <td>s004</td>\n",
       "      <td>0.0</td>\n",
       "    </tr>\n",
       "    <tr>\n",
       "      <th>5</th>\n",
       "      <td>s005</td>\n",
       "      <td>0.2</td>\n",
       "    </tr>\n",
       "    <tr>\n",
       "      <th>6</th>\n",
       "      <td>s006</td>\n",
       "      <td>0.2</td>\n",
       "    </tr>\n",
       "    <tr>\n",
       "      <th>7</th>\n",
       "      <td>s007</td>\n",
       "      <td>0.6</td>\n",
       "    </tr>\n",
       "    <tr>\n",
       "      <th>8</th>\n",
       "      <td>s008</td>\n",
       "      <td>0.4</td>\n",
       "    </tr>\n",
       "    <tr>\n",
       "      <th>9</th>\n",
       "      <td>s009</td>\n",
       "      <td>0.0</td>\n",
       "    </tr>\n",
       "    <tr>\n",
       "      <th>10</th>\n",
       "      <td>s010</td>\n",
       "      <td>0.4</td>\n",
       "    </tr>\n",
       "    <tr>\n",
       "      <th>11</th>\n",
       "      <td>s011</td>\n",
       "      <td>0.6</td>\n",
       "    </tr>\n",
       "    <tr>\n",
       "      <th>12</th>\n",
       "      <td>s012</td>\n",
       "      <td>0.2</td>\n",
       "    </tr>\n",
       "  </tbody>\n",
       "</table>\n",
       "</div>"
      ],
      "text/plain": [
       "    subj  recalled\n",
       "0   s000       0.2\n",
       "1   s001       0.2\n",
       "2   s002       0.2\n",
       "3   s003       0.0\n",
       "4   s004       0.0\n",
       "5   s005       0.2\n",
       "6   s006       0.2\n",
       "7   s007       0.6\n",
       "8   s008       0.4\n",
       "9   s009       0.0\n",
       "10  s010       0.4\n",
       "11  s011       0.6\n",
       "12  s012       0.2"
      ]
     },
     "execution_count": 203,
     "metadata": {},
     "output_type": "execute_result"
    }
   ],
   "source": [
    "# calculate each subject's proportion of time recalling the critical word\n",
    "cw_res = cw_recs.groupby('subj')['recalled'].mean().reset_index()\n",
    "cw_res"
   ]
  },
  {
   "cell_type": "code",
   "execution_count": 213,
   "metadata": {},
   "outputs": [
    {
     "name": "stdout",
     "output_type": "stream",
     "text": [
      "Mean: 0.24615384615384617\n"
     ]
    },
    {
     "data": {
      "text/plain": [
       "Ttest_1sampResult(statistic=4.3817804600413295, pvalue=0.0008935054959037181)"
      ]
     },
     "execution_count": 213,
     "metadata": {},
     "output_type": "execute_result"
    }
   ],
   "source": [
    "# Test whether the proportion is significant\n",
    "print('Mean:', cw_res['recalled'].mean())\n",
    "stats.ttest_1samp(cw_res['recalled'], popmean=0.0)"
   ]
  },
  {
   "cell_type": "markdown",
   "metadata": {
    "slideshow": {
     "slide_type": "slide"
    }
   },
   "source": [
    "## Conclusion\n",
    "\n",
    "- Free recall reveals the associative processes that underlie episodic memory retrieval.\n",
    "- Participants recalled more items on DRM than control lists.\n",
    "- But relied less on forming associations between nearby items on the lists.\n",
    "- There was significant false memory on the DRM lists, whereby participants recalled a significant portion of the \"critical words\" that were not on the list."
   ]
  },
  {
   "cell_type": "markdown",
   "metadata": {
    "slideshow": {
     "slide_type": "slide"
    }
   },
   "source": [
    "## Assignment before next class\n",
    "\n",
    "- We will post a small set of analyses to run extending the examples in this class\n",
    "- This will be due on ***Thursday*** next week\n",
    "\n",
    "### See you next week!!!"
   ]
  }
 ],
 "metadata": {
  "celltoolbar": "Slideshow",
  "kernelspec": {
   "display_name": "Python 3 (ipykernel)",
   "language": "python",
   "name": "python3"
  },
  "language_info": {
   "codemirror_mode": {
    "name": "ipython",
    "version": 3
   },
   "file_extension": ".py",
   "mimetype": "text/x-python",
   "name": "python",
   "nbconvert_exporter": "python",
   "pygments_lexer": "ipython3",
   "version": "3.9.7"
  },
  "rise": {
   "scroll": true
  }
 },
 "nbformat": 4,
 "nbformat_minor": 2
}
