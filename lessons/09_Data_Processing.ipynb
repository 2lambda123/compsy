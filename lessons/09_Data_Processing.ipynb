{
 "cells": [
  {
   "cell_type": "markdown",
   "metadata": {
    "slideshow": {
     "slide_type": "slide"
    }
   },
   "source": [
    "# Data Processing\n",
    "## Computational Methods in Psychology (and Neuroscience)\n",
    "### Psychology 4215/7215 --- Fall 2021\n",
    "By: Per B. Sederberg, PhD\n",
    "\n"
   ]
  },
  {
   "cell_type": "markdown",
   "metadata": {
    "slideshow": {
     "slide_type": "slide"
    }
   },
   "source": [
    "# Lesson Objectives\n",
    "\n",
    "Upon completion of this lesson, students should have learned:\n",
    "\n",
    "1. Read data from slog files\n",
    "2. The Series and DataFrame data structures in Pandas\n",
    "3. Load slogs as a DataFrame\n",
    "4. Some basic operations on the data\n"
   ]
  },
  {
   "cell_type": "markdown",
   "metadata": {
    "slideshow": {
     "slide_type": "slide"
    }
   },
   "source": [
    "# Updating SMILE\n",
    "\n",
    "- First you can test whether there is a new version Kivy, which is the primary dependency of SMILE:\n",
    "\n",
    "```bash\n",
    "conda install -c conda-forge kivy\n",
    "```\n",
    "\n",
    "- Then you can update SMILE right from the GitHub repository (note the upgrade option at the end):\n",
    "\n",
    "```bash\n",
    "pip install git+https://github.com/compmem/smile --upgrade\n",
    "```"
   ]
  },
  {
   "cell_type": "markdown",
   "metadata": {
    "slideshow": {
     "slide_type": "slide"
    }
   },
   "source": [
    "# Math Distract\n",
    "\n",
    "- Sometimes you want to have a delay period, e.g., between study and test\n",
    "- Although it may be fine to have an empty delay, often you'd like to fill it with a task that prevents rehearsal of the studied items\n",
    "- We provide a subroutine that generates math problems!"
   ]
  },
  {
   "cell_type": "code",
   "execution_count": 4,
   "metadata": {},
   "outputs": [],
   "source": [
    "from smile.common import *\n",
    "from smile.math_distract import MathDistract\n",
    "\n",
    "exp = Experiment(show_splash=False, resolution=(1024,768))\n",
    "\n",
    "Wait(1.0)\n",
    "MathDistract(num_vars=3,\n",
    "             min_num=1,\n",
    "             max_num=9,\n",
    "             max_probs=50,\n",
    "             duration=20)\n",
    "    \n",
    "exp.run()"
   ]
  },
  {
   "cell_type": "markdown",
   "metadata": {
    "slideshow": {
     "slide_type": "slide"
    }
   },
   "source": [
    "# Moving Dot stimuli\n",
    "\n",
    "- A class of stimuli at the core of many studies of perceptual decision-making\n",
    "- We provide a custom state for it:"
   ]
  },
  {
   "cell_type": "code",
   "execution_count": 2,
   "metadata": {},
   "outputs": [
    {
     "name": "stderr",
     "output_type": "stream",
     "text": [
      "[INFO   ] [Logger      ] Record log in /home/per/.kivy/logs/kivy_21-10-13_1.txt\n",
      "[INFO   ] [Kivy        ] v1.11.1\n",
      "[INFO   ] [Kivy        ] Installed at \"/home/per/anaconda3/lib/python3.7/site-packages/kivy/__init__.py\"\n",
      "[INFO   ] [Python      ] v3.7.7 (default, Mar 26 2020, 15:48:22) \n",
      "[GCC 7.3.0]\n",
      "[INFO   ] [Python      ] Interpreter at \"/home/per/anaconda3/bin/python\"\n",
      "[INFO   ] [Factory     ] 184 symbols loaded\n",
      "[INFO   ] [Image       ] Providers: img_tex, img_dds, img_sdl2, img_pil, img_gif (img_ffpyplayer ignored)\n",
      "[INFO   ] [Text        ] Provider: sdl2\n",
      "[INFO   ] [Camera      ] Provider: opencv(['camera_picamera', 'camera_gi'] ignored)\n",
      "[INFO   ] [VideoGstplayer] Using Gstreamer 1.14.5.0\n",
      "[INFO   ] [Video       ] Provider: gstplayer\n",
      "[INFO   ] [Window      ] Provider: sdl2(['window_egl_rpi'] ignored)\n",
      "[INFO   ] [GL          ] Using the \"OpenGL\" graphics system\n",
      "[INFO   ] [GL          ] Backend used <sdl2>\n",
      "[INFO   ] [GL          ] OpenGL version <b'4.6.0 NVIDIA 460.73.01'>\n",
      "[INFO   ] [GL          ] OpenGL vendor <b'NVIDIA Corporation'>\n",
      "[INFO   ] [GL          ] OpenGL renderer <b'GeForce GTX 1080 Ti/PCIe/SSE2'>\n",
      "[INFO   ] [GL          ] OpenGL parsed version: 4, 6\n",
      "[INFO   ] [GL          ] Shading version <b'4.60 NVIDIA'>\n",
      "[INFO   ] [GL          ] Texture max size <32768>\n",
      "[INFO   ] [GL          ] Texture max units <32>\n",
      "[INFO   ] [Window      ] auto add sdl2 input provider\n",
      "[INFO   ] [Window      ] virtual keyboard not allowed, single mode, not docked\n",
      "[INFO   ] [Base        ] Start application main loop\n",
      "[INFO   ] [GL          ] NPOT texture support is available\n",
      "[INFO   ] [Base        ] Leaving application in progress...\n",
      "[INFO   ] [WindowSDL   ] exiting mainloop and closing.\n",
      "[INFO   ] [Window      ] Provider: sdl2(['window_egl_rpi'] ignored)\n",
      "[INFO   ] [GL          ] Using the \"OpenGL\" graphics system\n",
      "[INFO   ] [GL          ] Backend used <sdl2>\n",
      "[INFO   ] [GL          ] OpenGL version <b'4.6.0 NVIDIA 460.73.01'>\n",
      "[INFO   ] [GL          ] OpenGL vendor <b'NVIDIA Corporation'>\n",
      "[INFO   ] [GL          ] OpenGL renderer <b'GeForce GTX 1080 Ti/PCIe/SSE2'>\n",
      "[INFO   ] [GL          ] OpenGL parsed version: 4, 6\n",
      "[INFO   ] [GL          ] Shading version <b'4.60 NVIDIA'>\n",
      "[INFO   ] [GL          ] Texture max size <32768>\n",
      "[INFO   ] [GL          ] Texture max units <32>\n",
      "[INFO   ] [Window      ] auto add sdl2 input provider\n",
      "[INFO   ] [Window      ] virtual keyboard not allowed, single mode, not docked\n",
      "[INFO   ] [Base        ] Start application main loop\n",
      "[INFO   ] [Base        ] Leaving application in progress...\n",
      "[INFO   ] [WindowSDL   ] exiting mainloop and closing.\n"
     ]
    }
   ],
   "source": [
    "from smile.common import *\n",
    "from smile.moving_dots import MovingDots\n",
    "\n",
    "exp = Experiment(show_splash=False, resolution=(1024,768))\n",
    "\n",
    "# set up some config\n",
    "dot_speed = 180\n",
    "\n",
    "# set initial values\n",
    "exp.cr=0.2\n",
    "exp.cl=0.2\n",
    "motion_props = [{\"coherence\": exp.cr, \"direction\": 0, \"direction_variance\": 0},\n",
    "                {\"coherence\": exp.cl, \"direction\": 180, \"direction_variance\": 0}]\n",
    "with Loop():\n",
    "    with Parallel():\n",
    "        dots = MovingDots(color='white', scale=3, num_dots=100, radius=200,\n",
    "                                motion_props=motion_props, speed=dot_speed,\n",
    "                                lifespan=0.5, lifespan_variance=1.5)\n",
    "        lr = Label(text=Ref.object('Right Coherence:\\n{:.2f}').format(exp.cr), \n",
    "                   left=dots.right+40, font_size=28) \n",
    "        ll = Label(text=Ref.object('Left Coherence:\\n{:.2f}').format(exp.cl), \n",
    "                   right=dots.left-40, font_size=28)\n",
    "\n",
    "    with UntilDone():\n",
    "            kp = KeyPress(keys=['UP','DOWN','LEFT','RIGHT'])\n",
    "            with If(kp.pressed=='UP'):\n",
    "                exp.cr=exp.cr+0.05\n",
    "                exp.cl=exp.cl+0.05\n",
    "                with If(exp.cr+exp.cl>1.0):\n",
    "                    exp.cr=exp.cr-0.05\n",
    "                    exp.cl=exp.cl-0.05\n",
    "            with Elif((kp.pressed=='DOWN')):\n",
    "                exp.cr=exp.cr-0.05\n",
    "                exp.cl=exp.cl-0.05\n",
    "                with If(exp.cr<0.05):\n",
    "                    exp.cr=0.0\n",
    "                with If(exp.cl<0.05):\n",
    "                    exp.cl=0.0\n",
    "            with Elif(kp.pressed=='LEFT'):\n",
    "                exp.cl=exp.cl+0.05\n",
    "                with If(exp.cr+exp.cl>1.0):\n",
    "                    exp.cl=exp.cl-0.05\n",
    "            with Elif(kp.pressed=='RIGHT'):\n",
    "                exp.cr=exp.cr+0.05\n",
    "                with If(exp.cr+exp.cl>1.0):\n",
    "                    exp.cr=exp.cr-0.05\n",
    "            # update the motion props\n",
    "            dots.update(motion_props=[{\"coherence\": exp.cr, \"direction\": 0},\n",
    "                                      {\"coherence\": exp.cl, \"direction\": 180}])\n",
    "            lr.update(text=Ref.object('Right Coherence:\\n{:.2f}').format(exp.cr))\n",
    "            ll.update(text=Ref.object('Left Coherence:\\n{:.2f}').format(exp.cl))\n",
    "with UntilDone():\n",
    "    KeyPress(keys=['ENTER'])\n",
    "\n",
    "    \n",
    "exp.run()"
   ]
  },
  {
   "cell_type": "markdown",
   "metadata": {
    "slideshow": {
     "slide_type": "slide"
    }
   },
   "source": [
    "# Reading in slog files\n",
    "\n",
    "- SMILE stores data in log files with the `.slog` file extension\n",
    "- It is a custom format that are pickled and compressed dictionaries\n",
    "- We can read them in with a SMILE function `log2dl` that converts the log to a list of dictionaries (i.e., a dict list):"
   ]
  },
  {
   "cell_type": "code",
   "execution_count": 46,
   "metadata": {},
   "outputs": [
    {
     "data": {
      "text/plain": [
       "[{'rt': 2.941615221919392,\n",
       "  'disappear_time_error': 0.0,\n",
       "  'disappear_time_time': 617.657840390051,\n",
       "  'run_num': 0,\n",
       "  'refresh_rate': 26.731467774154293,\n",
       "  'appear_time_error': 0.0,\n",
       "  'appear_time_time': 614.7072808193332,\n",
       "  'eeg_pulse_time': None,\n",
       "  'right_coherence': 0.06,\n",
       "  'left_coherence': 0.0,\n",
       "  'press_time_error': 0.0005104763318968253,\n",
       "  'press_time_time': 617.6488960412526,\n",
       "  'incorrect_resp': '1',\n",
       "  'pressed': '1',\n",
       "  'log_time': 618.1488960412526,\n",
       "  'correct_resp': '4',\n",
       "  'correct': False,\n",
       "  'fmri_tr_time': None,\n",
       "  'log_num': 0},\n",
       " {'rt': 1.5730700115865375,\n",
       "  'disappear_time_error': 0.0,\n",
       "  'disappear_time_time': 620.2500236883183,\n",
       "  'run_num': 0,\n",
       "  'refresh_rate': 26.59035375261749,\n",
       "  'appear_time_error': 0.0,\n",
       "  'appear_time_time': 618.6663967214259,\n",
       "  'eeg_pulse_time': None,\n",
       "  'right_coherence': 0.24,\n",
       "  'left_coherence': 0.3,\n",
       "  'press_time_error': 0.00047487459045214564,\n",
       "  'press_time_time': 620.2394667330125,\n",
       "  'incorrect_resp': '4',\n",
       "  'pressed': '4',\n",
       "  'log_time': 620.7394667330125,\n",
       "  'correct_resp': '1',\n",
       "  'correct': False,\n",
       "  'fmri_tr_time': None,\n",
       "  'log_num': 0}]"
      ]
     },
     "execution_count": 46,
     "metadata": {},
     "output_type": "execute_result"
    }
   ],
   "source": [
    "from smile.log import log2dl\n",
    "dl = log2dl('log_MD_0.slog')\n",
    "dl[:2]"
   ]
  },
  {
   "cell_type": "markdown",
   "metadata": {
    "slideshow": {
     "slide_type": "slide"
    }
   },
   "source": [
    "# Pandas\n",
    "\n",
    "- Library at the core of most data science with Python\n",
    "- Provides two key data structures: `Series` and `DataFrame`\n",
    "- The key feature of Pandas is that ***data alignment is intrinsic***. \n",
    "  - The link between labels and data will not be broken unless done so explicitly by you.\n"
   ]
  },
  {
   "cell_type": "markdown",
   "metadata": {
    "slideshow": {
     "slide_type": "slide"
    }
   },
   "source": [
    "## Series\n",
    "\n",
    "- A `Series` is a one-dimensional labeled array capable of holding any data type:\n",
    "  - integers, strings, floating point numbers, Python objects, etc...\n",
    "- The axis labels are collectively referred to as the index. "
   ]
  },
  {
   "cell_type": "code",
   "execution_count": 3,
   "metadata": {},
   "outputs": [
    {
     "data": {
      "text/plain": [
       "0   -0.023272\n",
       "1   -0.921768\n",
       "2   -2.679155\n",
       "3   -0.823877\n",
       "4   -2.134610\n",
       "dtype: float64"
      ]
     },
     "execution_count": 3,
     "metadata": {},
     "output_type": "execute_result"
    }
   ],
   "source": [
    "import pandas as pd\n",
    "import numpy as np\n",
    "\n",
    "s = pd.Series(np.random.randn(5))\n",
    "s"
   ]
  },
  {
   "cell_type": "code",
   "execution_count": 4,
   "metadata": {},
   "outputs": [
    {
     "data": {
      "text/plain": [
       "a    1.482528\n",
       "b   -0.377511\n",
       "c    1.875236\n",
       "d    1.089316\n",
       "e   -0.978238\n",
       "dtype: float64"
      ]
     },
     "execution_count": 4,
     "metadata": {},
     "output_type": "execute_result"
    }
   ],
   "source": [
    "# you can specify the index\n",
    "s = pd.Series(np.random.randn(5), index=['a', 'b', 'c', 'd', 'e'])\n",
    "s"
   ]
  },
  {
   "cell_type": "markdown",
   "metadata": {
    "slideshow": {
     "slide_type": "slide"
    }
   },
   "source": [
    "## Series are ndarray-like\n",
    "\n",
    "- You can slice a series and it will also slice your index\n",
    "- And many of the same methods are available (e.g., mean, sum, etc...)\n"
   ]
  },
  {
   "cell_type": "code",
   "execution_count": 5,
   "metadata": {},
   "outputs": [
    {
     "data": {
      "text/plain": [
       "c    1.875236\n",
       "d    1.089316\n",
       "e   -0.978238\n",
       "dtype: float64"
      ]
     },
     "execution_count": 5,
     "metadata": {},
     "output_type": "execute_result"
    }
   ],
   "source": [
    "s[2:]"
   ]
  },
  {
   "cell_type": "code",
   "execution_count": 47,
   "metadata": {},
   "outputs": [
    {
     "data": {
      "text/plain": [
       "0.6182659372161396"
      ]
     },
     "execution_count": 47,
     "metadata": {},
     "output_type": "execute_result"
    }
   ],
   "source": [
    "s.mean()"
   ]
  },
  {
   "cell_type": "code",
   "execution_count": 6,
   "metadata": {},
   "outputs": [
    {
     "data": {
      "text/plain": [
       "a    1.482528\n",
       "c    1.875236\n",
       "d    1.089316\n",
       "dtype: float64"
      ]
     },
     "execution_count": 6,
     "metadata": {},
     "output_type": "execute_result"
    }
   ],
   "source": [
    "s[s > s.mean()]"
   ]
  },
  {
   "cell_type": "markdown",
   "metadata": {
    "slideshow": {
     "slide_type": "slide"
    }
   },
   "source": [
    "## Series is also dict-like\n",
    "\n",
    "- A Series is like a fixed-size dict in that you can get and set values by index label"
   ]
  },
  {
   "cell_type": "code",
   "execution_count": 7,
   "metadata": {},
   "outputs": [
    {
     "data": {
      "text/plain": [
       "1.0893155918148905"
      ]
     },
     "execution_count": 7,
     "metadata": {},
     "output_type": "execute_result"
    }
   ],
   "source": [
    "s['d']"
   ]
  },
  {
   "cell_type": "code",
   "execution_count": 49,
   "metadata": {},
   "outputs": [
    {
     "data": {
      "text/plain": [
       "True"
      ]
     },
     "execution_count": 49,
     "metadata": {},
     "output_type": "execute_result"
    }
   ],
   "source": [
    "'d' in s"
   ]
  },
  {
   "cell_type": "markdown",
   "metadata": {
    "slideshow": {
     "slide_type": "slide"
    }
   },
   "source": [
    "## Series keeps array operations aligned\n",
    "\n",
    "- Series can also be passed into most NumPy methods expecting an ndarray.\n",
    "- Alignment will be maintained"
   ]
  },
  {
   "cell_type": "code",
   "execution_count": 9,
   "metadata": {},
   "outputs": [
    {
     "data": {
      "text/plain": [
       "a    2.965055\n",
       "b   -0.755022\n",
       "c    3.750472\n",
       "d    2.178631\n",
       "e   -1.956477\n",
       "dtype: float64"
      ]
     },
     "execution_count": 9,
     "metadata": {},
     "output_type": "execute_result"
    }
   ],
   "source": [
    "s+s"
   ]
  },
  {
   "cell_type": "code",
   "execution_count": 10,
   "metadata": {},
   "outputs": [
    {
     "data": {
      "text/plain": [
       "a    4.404063\n",
       "b    0.685566\n",
       "c    6.522357\n",
       "d    2.972239\n",
       "e    0.375973\n",
       "dtype: float64"
      ]
     },
     "execution_count": 10,
     "metadata": {},
     "output_type": "execute_result"
    }
   ],
   "source": [
    "np.exp(s)"
   ]
  },
  {
   "cell_type": "code",
   "execution_count": 11,
   "metadata": {},
   "outputs": [
    {
     "data": {
      "text/plain": [
       "a         NaN\n",
       "b   -0.755022\n",
       "c    3.750472\n",
       "d    2.178631\n",
       "e         NaN\n",
       "dtype: float64"
      ]
     },
     "execution_count": 11,
     "metadata": {},
     "output_type": "execute_result"
    }
   ],
   "source": [
    "s[1:] + s[:-1]"
   ]
  },
  {
   "cell_type": "code",
   "execution_count": 60,
   "metadata": {},
   "outputs": [
    {
     "data": {
      "text/plain": [
       "0     0\n",
       "1   -16\n",
       "2    16\n",
       "3     3\n",
       "4    16\n",
       "dtype: int64"
      ]
     },
     "execution_count": 60,
     "metadata": {},
     "output_type": "execute_result"
    }
   ],
   "source": [
    "x = pd.Series(np.random.randn(5)*10)\n",
    "x.astype(np.int)"
   ]
  },
  {
   "cell_type": "markdown",
   "metadata": {
    "slideshow": {
     "slide_type": "slide"
    }
   },
   "source": [
    "## DataFrame\n",
    "\n",
    "- `DataFrame` is a 2-dimensional labeled data structure with columns of potentially different types. \n",
    "- You can think of it like a spreadsheet or SQL table, or a dict of `Series` objects.\n",
    "- It's possible to create a DataFrame a lot of different ways."
   ]
  },
  {
   "cell_type": "code",
   "execution_count": 61,
   "metadata": {},
   "outputs": [
    {
     "data": {
      "text/html": [
       "<div>\n",
       "<style scoped>\n",
       "    .dataframe tbody tr th:only-of-type {\n",
       "        vertical-align: middle;\n",
       "    }\n",
       "\n",
       "    .dataframe tbody tr th {\n",
       "        vertical-align: top;\n",
       "    }\n",
       "\n",
       "    .dataframe thead th {\n",
       "        text-align: right;\n",
       "    }\n",
       "</style>\n",
       "<table border=\"1\" class=\"dataframe\">\n",
       "  <thead>\n",
       "    <tr style=\"text-align: right;\">\n",
       "      <th></th>\n",
       "      <th>one</th>\n",
       "      <th>two</th>\n",
       "    </tr>\n",
       "  </thead>\n",
       "  <tbody>\n",
       "    <tr>\n",
       "      <th>a</th>\n",
       "      <td>1.0</td>\n",
       "      <td>4.0</td>\n",
       "    </tr>\n",
       "    <tr>\n",
       "      <th>b</th>\n",
       "      <td>2.0</td>\n",
       "      <td>3.0</td>\n",
       "    </tr>\n",
       "    <tr>\n",
       "      <th>c</th>\n",
       "      <td>3.0</td>\n",
       "      <td>2.0</td>\n",
       "    </tr>\n",
       "    <tr>\n",
       "      <th>d</th>\n",
       "      <td>4.0</td>\n",
       "      <td>1.0</td>\n",
       "    </tr>\n",
       "  </tbody>\n",
       "</table>\n",
       "</div>"
      ],
      "text/plain": [
       "   one  two\n",
       "a  1.0  4.0\n",
       "b  2.0  3.0\n",
       "c  3.0  2.0\n",
       "d  4.0  1.0"
      ]
     },
     "execution_count": 61,
     "metadata": {},
     "output_type": "execute_result"
    }
   ],
   "source": [
    "# e.g., from a dictionary\n",
    "d = {'one': [1., 2., 3., 4.],\n",
    "     'two': [4., 3., 2., 1.]}\n",
    "df = pd.DataFrame(d, index=['a', 'b', 'c', 'd'])\n",
    "df"
   ]
  },
  {
   "cell_type": "markdown",
   "metadata": {
    "slideshow": {
     "slide_type": "slide"
    }
   },
   "source": [
    "## Column selection, addition, deletion\n",
    "\n",
    "- You can treat a DataFrame like a dict of Series objects"
   ]
  },
  {
   "cell_type": "code",
   "execution_count": 13,
   "metadata": {},
   "outputs": [
    {
     "data": {
      "text/plain": [
       "a    1.0\n",
       "b    2.0\n",
       "c    3.0\n",
       "d    4.0\n",
       "Name: one, dtype: float64"
      ]
     },
     "execution_count": 13,
     "metadata": {},
     "output_type": "execute_result"
    }
   ],
   "source": [
    "# pick a column\n",
    "df['one']"
   ]
  },
  {
   "cell_type": "code",
   "execution_count": 62,
   "metadata": {},
   "outputs": [
    {
     "data": {
      "text/html": [
       "<div>\n",
       "<style scoped>\n",
       "    .dataframe tbody tr th:only-of-type {\n",
       "        vertical-align: middle;\n",
       "    }\n",
       "\n",
       "    .dataframe tbody tr th {\n",
       "        vertical-align: top;\n",
       "    }\n",
       "\n",
       "    .dataframe thead th {\n",
       "        text-align: right;\n",
       "    }\n",
       "</style>\n",
       "<table border=\"1\" class=\"dataframe\">\n",
       "  <thead>\n",
       "    <tr style=\"text-align: right;\">\n",
       "      <th></th>\n",
       "      <th>one</th>\n",
       "      <th>two</th>\n",
       "      <th>three</th>\n",
       "      <th>thresh</th>\n",
       "    </tr>\n",
       "  </thead>\n",
       "  <tbody>\n",
       "    <tr>\n",
       "      <th>a</th>\n",
       "      <td>1.0</td>\n",
       "      <td>4.0</td>\n",
       "      <td>5.0</td>\n",
       "      <td>False</td>\n",
       "    </tr>\n",
       "    <tr>\n",
       "      <th>b</th>\n",
       "      <td>2.0</td>\n",
       "      <td>3.0</td>\n",
       "      <td>5.0</td>\n",
       "      <td>False</td>\n",
       "    </tr>\n",
       "    <tr>\n",
       "      <th>c</th>\n",
       "      <td>3.0</td>\n",
       "      <td>2.0</td>\n",
       "      <td>5.0</td>\n",
       "      <td>True</td>\n",
       "    </tr>\n",
       "    <tr>\n",
       "      <th>d</th>\n",
       "      <td>4.0</td>\n",
       "      <td>1.0</td>\n",
       "      <td>5.0</td>\n",
       "      <td>True</td>\n",
       "    </tr>\n",
       "  </tbody>\n",
       "</table>\n",
       "</div>"
      ],
      "text/plain": [
       "   one  two  three  thresh\n",
       "a  1.0  4.0    5.0   False\n",
       "b  2.0  3.0    5.0   False\n",
       "c  3.0  2.0    5.0    True\n",
       "d  4.0  1.0    5.0    True"
      ]
     },
     "execution_count": 62,
     "metadata": {},
     "output_type": "execute_result"
    }
   ],
   "source": [
    "# make new columns\n",
    "df['three'] = df['one'] + df['two']\n",
    "df['thresh'] = df['one'] > 2.0\n",
    "df"
   ]
  },
  {
   "cell_type": "code",
   "execution_count": 64,
   "metadata": {},
   "outputs": [
    {
     "data": {
      "text/plain": [
       "one       float64\n",
       "two       float64\n",
       "three     float64\n",
       "thresh       bool\n",
       "dtype: object"
      ]
     },
     "execution_count": 64,
     "metadata": {},
     "output_type": "execute_result"
    }
   ],
   "source": [
    "df.dtypes"
   ]
  },
  {
   "cell_type": "code",
   "execution_count": 15,
   "metadata": {},
   "outputs": [
    {
     "data": {
      "text/html": [
       "<div>\n",
       "<style scoped>\n",
       "    .dataframe tbody tr th:only-of-type {\n",
       "        vertical-align: middle;\n",
       "    }\n",
       "\n",
       "    .dataframe tbody tr th {\n",
       "        vertical-align: top;\n",
       "    }\n",
       "\n",
       "    .dataframe thead th {\n",
       "        text-align: right;\n",
       "    }\n",
       "</style>\n",
       "<table border=\"1\" class=\"dataframe\">\n",
       "  <thead>\n",
       "    <tr style=\"text-align: right;\">\n",
       "      <th></th>\n",
       "      <th>one</th>\n",
       "      <th>thresh</th>\n",
       "    </tr>\n",
       "  </thead>\n",
       "  <tbody>\n",
       "    <tr>\n",
       "      <th>a</th>\n",
       "      <td>1.0</td>\n",
       "      <td>False</td>\n",
       "    </tr>\n",
       "    <tr>\n",
       "      <th>b</th>\n",
       "      <td>2.0</td>\n",
       "      <td>False</td>\n",
       "    </tr>\n",
       "    <tr>\n",
       "      <th>c</th>\n",
       "      <td>3.0</td>\n",
       "      <td>True</td>\n",
       "    </tr>\n",
       "    <tr>\n",
       "      <th>d</th>\n",
       "      <td>4.0</td>\n",
       "      <td>True</td>\n",
       "    </tr>\n",
       "  </tbody>\n",
       "</table>\n",
       "</div>"
      ],
      "text/plain": [
       "   one  thresh\n",
       "a  1.0   False\n",
       "b  2.0   False\n",
       "c  3.0    True\n",
       "d  4.0    True"
      ]
     },
     "execution_count": 15,
     "metadata": {},
     "output_type": "execute_result"
    }
   ],
   "source": [
    "# you can delete with del or pop\n",
    "del df['two']\n",
    "df.pop('three')\n",
    "df"
   ]
  },
  {
   "cell_type": "code",
   "execution_count": 16,
   "metadata": {},
   "outputs": [
    {
     "data": {
      "text/html": [
       "<div>\n",
       "<style scoped>\n",
       "    .dataframe tbody tr th:only-of-type {\n",
       "        vertical-align: middle;\n",
       "    }\n",
       "\n",
       "    .dataframe tbody tr th {\n",
       "        vertical-align: top;\n",
       "    }\n",
       "\n",
       "    .dataframe thead th {\n",
       "        text-align: right;\n",
       "    }\n",
       "</style>\n",
       "<table border=\"1\" class=\"dataframe\">\n",
       "  <thead>\n",
       "    <tr style=\"text-align: right;\">\n",
       "      <th></th>\n",
       "      <th>one</th>\n",
       "      <th>thresh</th>\n",
       "      <th>foo</th>\n",
       "    </tr>\n",
       "  </thead>\n",
       "  <tbody>\n",
       "    <tr>\n",
       "      <th>a</th>\n",
       "      <td>1.0</td>\n",
       "      <td>False</td>\n",
       "      <td>bar</td>\n",
       "    </tr>\n",
       "    <tr>\n",
       "      <th>b</th>\n",
       "      <td>2.0</td>\n",
       "      <td>False</td>\n",
       "      <td>bar</td>\n",
       "    </tr>\n",
       "    <tr>\n",
       "      <th>c</th>\n",
       "      <td>3.0</td>\n",
       "      <td>True</td>\n",
       "      <td>bar</td>\n",
       "    </tr>\n",
       "    <tr>\n",
       "      <th>d</th>\n",
       "      <td>4.0</td>\n",
       "      <td>True</td>\n",
       "      <td>bar</td>\n",
       "    </tr>\n",
       "  </tbody>\n",
       "</table>\n",
       "</div>"
      ],
      "text/plain": [
       "   one  thresh  foo\n",
       "a  1.0   False  bar\n",
       "b  2.0   False  bar\n",
       "c  3.0    True  bar\n",
       "d  4.0    True  bar"
      ]
     },
     "execution_count": 16,
     "metadata": {},
     "output_type": "execute_result"
    }
   ],
   "source": [
    "# new values will populate the entire column\n",
    "df['foo'] = 'bar'\n",
    "df"
   ]
  },
  {
   "cell_type": "markdown",
   "metadata": {
    "slideshow": {
     "slide_type": "slide"
    }
   },
   "source": [
    "## Indexing and Selection\n",
    "\n",
    "  - loc\n",
    "  - iloc\n",
    "  - boolean\n",
    "  - column\n"
   ]
  },
  {
   "cell_type": "code",
   "execution_count": 17,
   "metadata": {},
   "outputs": [
    {
     "data": {
      "text/html": [
       "<div>\n",
       "<style scoped>\n",
       "    .dataframe tbody tr th:only-of-type {\n",
       "        vertical-align: middle;\n",
       "    }\n",
       "\n",
       "    .dataframe tbody tr th {\n",
       "        vertical-align: top;\n",
       "    }\n",
       "\n",
       "    .dataframe thead th {\n",
       "        text-align: right;\n",
       "    }\n",
       "</style>\n",
       "<table border=\"1\" class=\"dataframe\">\n",
       "  <thead>\n",
       "    <tr style=\"text-align: right;\">\n",
       "      <th></th>\n",
       "      <th>one</th>\n",
       "      <th>thresh</th>\n",
       "      <th>foo</th>\n",
       "    </tr>\n",
       "  </thead>\n",
       "  <tbody>\n",
       "    <tr>\n",
       "      <th>c</th>\n",
       "      <td>3.0</td>\n",
       "      <td>True</td>\n",
       "      <td>bar</td>\n",
       "    </tr>\n",
       "    <tr>\n",
       "      <th>d</th>\n",
       "      <td>4.0</td>\n",
       "      <td>True</td>\n",
       "      <td>bar</td>\n",
       "    </tr>\n",
       "  </tbody>\n",
       "</table>\n",
       "</div>"
      ],
      "text/plain": [
       "   one  thresh  foo\n",
       "c  3.0    True  bar\n",
       "d  4.0    True  bar"
      ]
     },
     "execution_count": 17,
     "metadata": {},
     "output_type": "execute_result"
    }
   ],
   "source": [
    "df.loc[df['one']>2]"
   ]
  },
  {
   "cell_type": "code",
   "execution_count": 68,
   "metadata": {},
   "outputs": [
    {
     "data": {
      "text/html": [
       "<div>\n",
       "<style scoped>\n",
       "    .dataframe tbody tr th:only-of-type {\n",
       "        vertical-align: middle;\n",
       "    }\n",
       "\n",
       "    .dataframe tbody tr th {\n",
       "        vertical-align: top;\n",
       "    }\n",
       "\n",
       "    .dataframe thead th {\n",
       "        text-align: right;\n",
       "    }\n",
       "</style>\n",
       "<table border=\"1\" class=\"dataframe\">\n",
       "  <thead>\n",
       "    <tr style=\"text-align: right;\">\n",
       "      <th></th>\n",
       "      <th>one</th>\n",
       "      <th>two</th>\n",
       "      <th>three</th>\n",
       "      <th>thresh</th>\n",
       "    </tr>\n",
       "  </thead>\n",
       "  <tbody>\n",
       "    <tr>\n",
       "      <th>a</th>\n",
       "      <td>1.0</td>\n",
       "      <td>4.0</td>\n",
       "      <td>5.0</td>\n",
       "      <td>False</td>\n",
       "    </tr>\n",
       "    <tr>\n",
       "      <th>b</th>\n",
       "      <td>2.0</td>\n",
       "      <td>3.0</td>\n",
       "      <td>5.0</td>\n",
       "      <td>False</td>\n",
       "    </tr>\n",
       "    <tr>\n",
       "      <th>c</th>\n",
       "      <td>3.0</td>\n",
       "      <td>2.0</td>\n",
       "      <td>5.0</td>\n",
       "      <td>True</td>\n",
       "    </tr>\n",
       "    <tr>\n",
       "      <th>d</th>\n",
       "      <td>4.0</td>\n",
       "      <td>1.0</td>\n",
       "      <td>5.0</td>\n",
       "      <td>True</td>\n",
       "    </tr>\n",
       "  </tbody>\n",
       "</table>\n",
       "</div>"
      ],
      "text/plain": [
       "   one  two  three  thresh\n",
       "a  1.0  4.0    5.0   False\n",
       "b  2.0  3.0    5.0   False\n",
       "c  3.0  2.0    5.0    True\n",
       "d  4.0  1.0    5.0    True"
      ]
     },
     "execution_count": 68,
     "metadata": {},
     "output_type": "execute_result"
    }
   ],
   "source": [
    "df"
   ]
  },
  {
   "cell_type": "code",
   "execution_count": 71,
   "metadata": {},
   "outputs": [
    {
     "data": {
      "text/html": [
       "<div>\n",
       "<style scoped>\n",
       "    .dataframe tbody tr th:only-of-type {\n",
       "        vertical-align: middle;\n",
       "    }\n",
       "\n",
       "    .dataframe tbody tr th {\n",
       "        vertical-align: top;\n",
       "    }\n",
       "\n",
       "    .dataframe thead th {\n",
       "        text-align: right;\n",
       "    }\n",
       "</style>\n",
       "<table border=\"1\" class=\"dataframe\">\n",
       "  <thead>\n",
       "    <tr style=\"text-align: right;\">\n",
       "      <th></th>\n",
       "      <th>one</th>\n",
       "      <th>three</th>\n",
       "    </tr>\n",
       "  </thead>\n",
       "  <tbody>\n",
       "    <tr>\n",
       "      <th>a</th>\n",
       "      <td>1.0</td>\n",
       "      <td>5.0</td>\n",
       "    </tr>\n",
       "    <tr>\n",
       "      <th>b</th>\n",
       "      <td>2.0</td>\n",
       "      <td>5.0</td>\n",
       "    </tr>\n",
       "    <tr>\n",
       "      <th>c</th>\n",
       "      <td>3.0</td>\n",
       "      <td>5.0</td>\n",
       "    </tr>\n",
       "    <tr>\n",
       "      <th>d</th>\n",
       "      <td>4.0</td>\n",
       "      <td>5.0</td>\n",
       "    </tr>\n",
       "  </tbody>\n",
       "</table>\n",
       "</div>"
      ],
      "text/plain": [
       "   one  three\n",
       "a  1.0    5.0\n",
       "b  2.0    5.0\n",
       "c  3.0    5.0\n",
       "d  4.0    5.0"
      ]
     },
     "execution_count": 71,
     "metadata": {},
     "output_type": "execute_result"
    }
   ],
   "source": [
    "# pick columns of interest\n",
    "df[['one', 'three']]"
   ]
  },
  {
   "cell_type": "code",
   "execution_count": 74,
   "metadata": {},
   "outputs": [
    {
     "data": {
      "text/html": [
       "<div>\n",
       "<style scoped>\n",
       "    .dataframe tbody tr th:only-of-type {\n",
       "        vertical-align: middle;\n",
       "    }\n",
       "\n",
       "    .dataframe tbody tr th {\n",
       "        vertical-align: top;\n",
       "    }\n",
       "\n",
       "    .dataframe thead th {\n",
       "        text-align: right;\n",
       "    }\n",
       "</style>\n",
       "<table border=\"1\" class=\"dataframe\">\n",
       "  <thead>\n",
       "    <tr style=\"text-align: right;\">\n",
       "      <th></th>\n",
       "      <th>one</th>\n",
       "      <th>two</th>\n",
       "      <th>three</th>\n",
       "      <th>thresh</th>\n",
       "    </tr>\n",
       "  </thead>\n",
       "  <tbody>\n",
       "    <tr>\n",
       "      <th>b</th>\n",
       "      <td>2.0</td>\n",
       "      <td>3.0</td>\n",
       "      <td>5.0</td>\n",
       "      <td>False</td>\n",
       "    </tr>\n",
       "    <tr>\n",
       "      <th>c</th>\n",
       "      <td>3.0</td>\n",
       "      <td>2.0</td>\n",
       "      <td>5.0</td>\n",
       "      <td>True</td>\n",
       "    </tr>\n",
       "  </tbody>\n",
       "</table>\n",
       "</div>"
      ],
      "text/plain": [
       "   one  two  three  thresh\n",
       "b  2.0  3.0    5.0   False\n",
       "c  3.0  2.0    5.0    True"
      ]
     },
     "execution_count": 74,
     "metadata": {},
     "output_type": "execute_result"
    }
   ],
   "source": [
    "# pick rows by index\n",
    "df.loc[['b', 'c']]"
   ]
  },
  {
   "cell_type": "code",
   "execution_count": 77,
   "metadata": {},
   "outputs": [
    {
     "data": {
      "text/html": [
       "<div>\n",
       "<style scoped>\n",
       "    .dataframe tbody tr th:only-of-type {\n",
       "        vertical-align: middle;\n",
       "    }\n",
       "\n",
       "    .dataframe tbody tr th {\n",
       "        vertical-align: top;\n",
       "    }\n",
       "\n",
       "    .dataframe thead th {\n",
       "        text-align: right;\n",
       "    }\n",
       "</style>\n",
       "<table border=\"1\" class=\"dataframe\">\n",
       "  <thead>\n",
       "    <tr style=\"text-align: right;\">\n",
       "      <th></th>\n",
       "      <th>one</th>\n",
       "      <th>two</th>\n",
       "      <th>three</th>\n",
       "      <th>thresh</th>\n",
       "    </tr>\n",
       "  </thead>\n",
       "  <tbody>\n",
       "    <tr>\n",
       "      <th>b</th>\n",
       "      <td>2.0</td>\n",
       "      <td>3.0</td>\n",
       "      <td>5.0</td>\n",
       "      <td>False</td>\n",
       "    </tr>\n",
       "    <tr>\n",
       "      <th>d</th>\n",
       "      <td>4.0</td>\n",
       "      <td>1.0</td>\n",
       "      <td>5.0</td>\n",
       "      <td>True</td>\n",
       "    </tr>\n",
       "  </tbody>\n",
       "</table>\n",
       "</div>"
      ],
      "text/plain": [
       "   one  two  three  thresh\n",
       "b  2.0  3.0    5.0   False\n",
       "d  4.0  1.0    5.0    True"
      ]
     },
     "execution_count": 77,
     "metadata": {},
     "output_type": "execute_result"
    }
   ],
   "source": [
    "# pick rows by numeric index\n",
    "df.iloc[[1, 3]]"
   ]
  },
  {
   "cell_type": "code",
   "execution_count": 82,
   "metadata": {},
   "outputs": [],
   "source": [
    "# pick rows by boolean index\n",
    "df2 = df[(df['two']>2) & (df['one']<=1)]"
   ]
  },
  {
   "cell_type": "code",
   "execution_count": 88,
   "metadata": {},
   "outputs": [
    {
     "data": {
      "text/html": [
       "<div>\n",
       "<style scoped>\n",
       "    .dataframe tbody tr th:only-of-type {\n",
       "        vertical-align: middle;\n",
       "    }\n",
       "\n",
       "    .dataframe tbody tr th {\n",
       "        vertical-align: top;\n",
       "    }\n",
       "\n",
       "    .dataframe thead th {\n",
       "        text-align: right;\n",
       "    }\n",
       "</style>\n",
       "<table border=\"1\" class=\"dataframe\">\n",
       "  <thead>\n",
       "    <tr style=\"text-align: right;\">\n",
       "      <th></th>\n",
       "      <th>two</th>\n",
       "      <th>three</th>\n",
       "    </tr>\n",
       "  </thead>\n",
       "  <tbody>\n",
       "    <tr>\n",
       "      <th>a</th>\n",
       "      <td>4.0</td>\n",
       "      <td>5.0</td>\n",
       "    </tr>\n",
       "  </tbody>\n",
       "</table>\n",
       "</div>"
      ],
      "text/plain": [
       "   two  three\n",
       "a  4.0    5.0"
      ]
     },
     "execution_count": 88,
     "metadata": {},
     "output_type": "execute_result"
    }
   ],
   "source": [
    "# pick rows by boolean index\n",
    "df3 = df.loc[(df['two']>2) & (df['one']<=1), ['two', 'three']]\n",
    "df3"
   ]
  },
  {
   "cell_type": "markdown",
   "metadata": {
    "slideshow": {
     "slide_type": "slide"
    }
   },
   "source": [
    "## SMILE and Pandas\n",
    "\n",
    "- We can create a DataFrame from a dict list in SMILE:"
   ]
  },
  {
   "cell_type": "code",
   "execution_count": 92,
   "metadata": {},
   "outputs": [
    {
     "data": {
      "text/html": [
       "<div>\n",
       "<style scoped>\n",
       "    .dataframe tbody tr th:only-of-type {\n",
       "        vertical-align: middle;\n",
       "    }\n",
       "\n",
       "    .dataframe tbody tr th {\n",
       "        vertical-align: top;\n",
       "    }\n",
       "\n",
       "    .dataframe thead th {\n",
       "        text-align: right;\n",
       "    }\n",
       "</style>\n",
       "<table border=\"1\" class=\"dataframe\">\n",
       "  <thead>\n",
       "    <tr style=\"text-align: right;\">\n",
       "      <th></th>\n",
       "      <th>rt</th>\n",
       "      <th>disappear_time_error</th>\n",
       "      <th>disappear_time_time</th>\n",
       "      <th>run_num</th>\n",
       "      <th>refresh_rate</th>\n",
       "      <th>appear_time_error</th>\n",
       "      <th>appear_time_time</th>\n",
       "      <th>eeg_pulse_time</th>\n",
       "      <th>right_coherence</th>\n",
       "      <th>left_coherence</th>\n",
       "      <th>press_time_error</th>\n",
       "      <th>press_time_time</th>\n",
       "      <th>incorrect_resp</th>\n",
       "      <th>pressed</th>\n",
       "      <th>log_time</th>\n",
       "      <th>correct_resp</th>\n",
       "      <th>correct</th>\n",
       "      <th>fmri_tr_time</th>\n",
       "      <th>log_num</th>\n",
       "    </tr>\n",
       "  </thead>\n",
       "  <tbody>\n",
       "    <tr>\n",
       "      <th>0</th>\n",
       "      <td>2.941615</td>\n",
       "      <td>0.0</td>\n",
       "      <td>617.657840</td>\n",
       "      <td>0</td>\n",
       "      <td>26.731468</td>\n",
       "      <td>0.0</td>\n",
       "      <td>614.707281</td>\n",
       "      <td>None</td>\n",
       "      <td>0.06</td>\n",
       "      <td>0.00</td>\n",
       "      <td>0.000510</td>\n",
       "      <td>617.648896</td>\n",
       "      <td>1</td>\n",
       "      <td>1</td>\n",
       "      <td>618.148896</td>\n",
       "      <td>4</td>\n",
       "      <td>False</td>\n",
       "      <td>None</td>\n",
       "      <td>0</td>\n",
       "    </tr>\n",
       "    <tr>\n",
       "      <th>1</th>\n",
       "      <td>1.573070</td>\n",
       "      <td>0.0</td>\n",
       "      <td>620.250024</td>\n",
       "      <td>0</td>\n",
       "      <td>26.590354</td>\n",
       "      <td>0.0</td>\n",
       "      <td>618.666397</td>\n",
       "      <td>None</td>\n",
       "      <td>0.24</td>\n",
       "      <td>0.30</td>\n",
       "      <td>0.000475</td>\n",
       "      <td>620.239467</td>\n",
       "      <td>4</td>\n",
       "      <td>4</td>\n",
       "      <td>620.739467</td>\n",
       "      <td>1</td>\n",
       "      <td>False</td>\n",
       "      <td>None</td>\n",
       "      <td>0</td>\n",
       "    </tr>\n",
       "    <tr>\n",
       "      <th>2</th>\n",
       "      <td>2.810989</td>\n",
       "      <td>0.0</td>\n",
       "      <td>624.100785</td>\n",
       "      <td>0</td>\n",
       "      <td>27.489738</td>\n",
       "      <td>0.0</td>\n",
       "      <td>621.275211</td>\n",
       "      <td>None</td>\n",
       "      <td>0.00</td>\n",
       "      <td>0.00</td>\n",
       "      <td>0.000544</td>\n",
       "      <td>624.086200</td>\n",
       "      <td>1</td>\n",
       "      <td>4</td>\n",
       "      <td>624.586200</td>\n",
       "      <td>4</td>\n",
       "      <td>True</td>\n",
       "      <td>None</td>\n",
       "      <td>0</td>\n",
       "    </tr>\n",
       "    <tr>\n",
       "      <th>3</th>\n",
       "      <td>0.872496</td>\n",
       "      <td>0.0</td>\n",
       "      <td>625.751111</td>\n",
       "      <td>0</td>\n",
       "      <td>27.255089</td>\n",
       "      <td>0.0</td>\n",
       "      <td>624.850929</td>\n",
       "      <td>None</td>\n",
       "      <td>0.00</td>\n",
       "      <td>0.24</td>\n",
       "      <td>0.001483</td>\n",
       "      <td>625.723425</td>\n",
       "      <td>4</td>\n",
       "      <td>1</td>\n",
       "      <td>626.223425</td>\n",
       "      <td>1</td>\n",
       "      <td>True</td>\n",
       "      <td>None</td>\n",
       "      <td>0</td>\n",
       "    </tr>\n",
       "    <tr>\n",
       "      <th>4</th>\n",
       "      <td>1.818831</td>\n",
       "      <td>0.0</td>\n",
       "      <td>628.618369</td>\n",
       "      <td>0</td>\n",
       "      <td>26.489366</td>\n",
       "      <td>0.0</td>\n",
       "      <td>626.784654</td>\n",
       "      <td>None</td>\n",
       "      <td>0.00</td>\n",
       "      <td>0.12</td>\n",
       "      <td>0.000755</td>\n",
       "      <td>628.603485</td>\n",
       "      <td>4</td>\n",
       "      <td>1</td>\n",
       "      <td>629.103485</td>\n",
       "      <td>1</td>\n",
       "      <td>True</td>\n",
       "      <td>None</td>\n",
       "      <td>0</td>\n",
       "    </tr>\n",
       "  </tbody>\n",
       "</table>\n",
       "</div>"
      ],
      "text/plain": [
       "         rt  disappear_time_error  disappear_time_time  run_num  refresh_rate  \\\n",
       "0  2.941615                   0.0           617.657840        0     26.731468   \n",
       "1  1.573070                   0.0           620.250024        0     26.590354   \n",
       "2  2.810989                   0.0           624.100785        0     27.489738   \n",
       "3  0.872496                   0.0           625.751111        0     27.255089   \n",
       "4  1.818831                   0.0           628.618369        0     26.489366   \n",
       "\n",
       "   appear_time_error  appear_time_time eeg_pulse_time  right_coherence  \\\n",
       "0                0.0        614.707281           None             0.06   \n",
       "1                0.0        618.666397           None             0.24   \n",
       "2                0.0        621.275211           None             0.00   \n",
       "3                0.0        624.850929           None             0.00   \n",
       "4                0.0        626.784654           None             0.00   \n",
       "\n",
       "   left_coherence  press_time_error  press_time_time incorrect_resp pressed  \\\n",
       "0            0.00          0.000510       617.648896              1       1   \n",
       "1            0.30          0.000475       620.239467              4       4   \n",
       "2            0.00          0.000544       624.086200              1       4   \n",
       "3            0.24          0.001483       625.723425              4       1   \n",
       "4            0.12          0.000755       628.603485              4       1   \n",
       "\n",
       "     log_time correct_resp  correct fmri_tr_time  log_num  \n",
       "0  618.148896            4    False         None        0  \n",
       "1  620.739467            1    False         None        0  \n",
       "2  624.586200            4     True         None        0  \n",
       "3  626.223425            1     True         None        0  \n",
       "4  629.103485            1     True         None        0  "
      ]
     },
     "execution_count": 92,
     "metadata": {},
     "output_type": "execute_result"
    }
   ],
   "source": [
    "dl = log2dl('log_MD_0.slog')\n",
    "df = pd.DataFrame(dl)\n",
    "df.head(5)"
   ]
  },
  {
   "cell_type": "markdown",
   "metadata": {
    "slideshow": {
     "slide_type": "slide"
    }
   },
   "source": [
    "# A quick summary\n",
    "\n",
    "- You can use the `describe` method to get a quick summary of your data frame"
   ]
  },
  {
   "cell_type": "code",
   "execution_count": 19,
   "metadata": {},
   "outputs": [
    {
     "data": {
      "text/html": [
       "<div>\n",
       "<style scoped>\n",
       "    .dataframe tbody tr th:only-of-type {\n",
       "        vertical-align: middle;\n",
       "    }\n",
       "\n",
       "    .dataframe tbody tr th {\n",
       "        vertical-align: top;\n",
       "    }\n",
       "\n",
       "    .dataframe thead th {\n",
       "        text-align: right;\n",
       "    }\n",
       "</style>\n",
       "<table border=\"1\" class=\"dataframe\">\n",
       "  <thead>\n",
       "    <tr style=\"text-align: right;\">\n",
       "      <th></th>\n",
       "      <th>rt</th>\n",
       "      <th>disappear_time_error</th>\n",
       "      <th>disappear_time_time</th>\n",
       "      <th>run_num</th>\n",
       "      <th>refresh_rate</th>\n",
       "      <th>appear_time_error</th>\n",
       "      <th>appear_time_time</th>\n",
       "      <th>right_coherence</th>\n",
       "      <th>left_coherence</th>\n",
       "      <th>press_time_error</th>\n",
       "      <th>press_time_time</th>\n",
       "      <th>log_time</th>\n",
       "      <th>log_num</th>\n",
       "    </tr>\n",
       "  </thead>\n",
       "  <tbody>\n",
       "    <tr>\n",
       "      <th>count</th>\n",
       "      <td>248.000000</td>\n",
       "      <td>248.0</td>\n",
       "      <td>248.000000</td>\n",
       "      <td>248.000000</td>\n",
       "      <td>248.000000</td>\n",
       "      <td>248.0</td>\n",
       "      <td>248.000000</td>\n",
       "      <td>248.000000</td>\n",
       "      <td>248.000000</td>\n",
       "      <td>248.000000</td>\n",
       "      <td>248.000000</td>\n",
       "      <td>248.000000</td>\n",
       "      <td>248.0</td>\n",
       "    </tr>\n",
       "    <tr>\n",
       "      <th>mean</th>\n",
       "      <td>0.804588</td>\n",
       "      <td>0.0</td>\n",
       "      <td>1481.126965</td>\n",
       "      <td>1.500000</td>\n",
       "      <td>26.667593</td>\n",
       "      <td>0.0</td>\n",
       "      <td>1480.307270</td>\n",
       "      <td>0.150000</td>\n",
       "      <td>0.150000</td>\n",
       "      <td>0.001204</td>\n",
       "      <td>1481.111858</td>\n",
       "      <td>1481.611858</td>\n",
       "      <td>0.0</td>\n",
       "    </tr>\n",
       "    <tr>\n",
       "      <th>std</th>\n",
       "      <td>0.383854</td>\n",
       "      <td>0.0</td>\n",
       "      <td>601.187932</td>\n",
       "      <td>1.120295</td>\n",
       "      <td>0.854239</td>\n",
       "      <td>0.0</td>\n",
       "      <td>601.233562</td>\n",
       "      <td>0.104552</td>\n",
       "      <td>0.104552</td>\n",
       "      <td>0.005860</td>\n",
       "      <td>601.187790</td>\n",
       "      <td>601.187790</td>\n",
       "      <td>0.0</td>\n",
       "    </tr>\n",
       "    <tr>\n",
       "      <th>min</th>\n",
       "      <td>0.252737</td>\n",
       "      <td>0.0</td>\n",
       "      <td>617.657840</td>\n",
       "      <td>0.000000</td>\n",
       "      <td>21.059205</td>\n",
       "      <td>0.0</td>\n",
       "      <td>614.707281</td>\n",
       "      <td>0.000000</td>\n",
       "      <td>0.000000</td>\n",
       "      <td>0.000430</td>\n",
       "      <td>617.648896</td>\n",
       "      <td>618.148896</td>\n",
       "      <td>0.0</td>\n",
       "    </tr>\n",
       "    <tr>\n",
       "      <th>25%</th>\n",
       "      <td>0.558839</td>\n",
       "      <td>0.0</td>\n",
       "      <td>1008.340282</td>\n",
       "      <td>0.750000</td>\n",
       "      <td>26.397669</td>\n",
       "      <td>0.0</td>\n",
       "      <td>1007.321325</td>\n",
       "      <td>0.060000</td>\n",
       "      <td>0.060000</td>\n",
       "      <td>0.000497</td>\n",
       "      <td>1008.328116</td>\n",
       "      <td>1008.828116</td>\n",
       "      <td>0.0</td>\n",
       "    </tr>\n",
       "    <tr>\n",
       "      <th>50%</th>\n",
       "      <td>0.678502</td>\n",
       "      <td>0.0</td>\n",
       "      <td>1532.049636</td>\n",
       "      <td>1.500000</td>\n",
       "      <td>26.717780</td>\n",
       "      <td>0.0</td>\n",
       "      <td>1530.628267</td>\n",
       "      <td>0.150000</td>\n",
       "      <td>0.150000</td>\n",
       "      <td>0.000519</td>\n",
       "      <td>1532.033580</td>\n",
       "      <td>1532.533580</td>\n",
       "      <td>0.0</td>\n",
       "    </tr>\n",
       "    <tr>\n",
       "      <th>75%</th>\n",
       "      <td>0.926857</td>\n",
       "      <td>0.0</td>\n",
       "      <td>2005.156651</td>\n",
       "      <td>2.250000</td>\n",
       "      <td>27.143314</td>\n",
       "      <td>0.0</td>\n",
       "      <td>2004.558631</td>\n",
       "      <td>0.240000</td>\n",
       "      <td>0.240000</td>\n",
       "      <td>0.000547</td>\n",
       "      <td>2005.143065</td>\n",
       "      <td>2005.643065</td>\n",
       "      <td>0.0</td>\n",
       "    </tr>\n",
       "    <tr>\n",
       "      <th>max</th>\n",
       "      <td>2.941615</td>\n",
       "      <td>0.0</td>\n",
       "      <td>2243.141804</td>\n",
       "      <td>3.000000</td>\n",
       "      <td>28.609071</td>\n",
       "      <td>0.0</td>\n",
       "      <td>2241.983237</td>\n",
       "      <td>0.300000</td>\n",
       "      <td>0.300000</td>\n",
       "      <td>0.069283</td>\n",
       "      <td>2243.130664</td>\n",
       "      <td>2243.630664</td>\n",
       "      <td>0.0</td>\n",
       "    </tr>\n",
       "  </tbody>\n",
       "</table>\n",
       "</div>"
      ],
      "text/plain": [
       "               rt  disappear_time_error  disappear_time_time     run_num  \\\n",
       "count  248.000000                 248.0           248.000000  248.000000   \n",
       "mean     0.804588                   0.0          1481.126965    1.500000   \n",
       "std      0.383854                   0.0           601.187932    1.120295   \n",
       "min      0.252737                   0.0           617.657840    0.000000   \n",
       "25%      0.558839                   0.0          1008.340282    0.750000   \n",
       "50%      0.678502                   0.0          1532.049636    1.500000   \n",
       "75%      0.926857                   0.0          2005.156651    2.250000   \n",
       "max      2.941615                   0.0          2243.141804    3.000000   \n",
       "\n",
       "       refresh_rate  appear_time_error  appear_time_time  right_coherence  \\\n",
       "count    248.000000              248.0        248.000000       248.000000   \n",
       "mean      26.667593                0.0       1480.307270         0.150000   \n",
       "std        0.854239                0.0        601.233562         0.104552   \n",
       "min       21.059205                0.0        614.707281         0.000000   \n",
       "25%       26.397669                0.0       1007.321325         0.060000   \n",
       "50%       26.717780                0.0       1530.628267         0.150000   \n",
       "75%       27.143314                0.0       2004.558631         0.240000   \n",
       "max       28.609071                0.0       2241.983237         0.300000   \n",
       "\n",
       "       left_coherence  press_time_error  press_time_time     log_time  log_num  \n",
       "count      248.000000        248.000000       248.000000   248.000000    248.0  \n",
       "mean         0.150000          0.001204      1481.111858  1481.611858      0.0  \n",
       "std          0.104552          0.005860       601.187790   601.187790      0.0  \n",
       "min          0.000000          0.000430       617.648896   618.148896      0.0  \n",
       "25%          0.060000          0.000497      1008.328116  1008.828116      0.0  \n",
       "50%          0.150000          0.000519      1532.033580  1532.533580      0.0  \n",
       "75%          0.240000          0.000547      2005.143065  2005.643065      0.0  \n",
       "max          0.300000          0.069283      2243.130664  2243.630664      0.0  "
      ]
     },
     "execution_count": 19,
     "metadata": {},
     "output_type": "execute_result"
    }
   ],
   "source": [
    "df.describe()"
   ]
  },
  {
   "cell_type": "markdown",
   "metadata": {
    "slideshow": {
     "slide_type": "slide"
    }
   },
   "source": [
    "# Some data clean-up"
   ]
  },
  {
   "cell_type": "code",
   "execution_count": 94,
   "metadata": {},
   "outputs": [
    {
     "data": {
      "text/plain": [
       "Index(['rt', 'disappear_time_error', 'disappear_time_time', 'run_num',\n",
       "       'refresh_rate', 'appear_time_error', 'appear_time_time',\n",
       "       'eeg_pulse_time', 'right_coherence', 'left_coherence',\n",
       "       'press_time_error', 'press_time_time', 'incorrect_resp', 'pressed',\n",
       "       'log_time', 'correct_resp', 'correct', 'fmri_tr_time', 'log_num',\n",
       "       'coh_diff', 'log_rt'],\n",
       "      dtype='object')"
      ]
     },
     "execution_count": 94,
     "metadata": {},
     "output_type": "execute_result"
    }
   ],
   "source": [
    "df.columns"
   ]
  },
  {
   "cell_type": "code",
   "execution_count": 98,
   "metadata": {},
   "outputs": [
    {
     "data": {
      "text/html": [
       "<div>\n",
       "<style scoped>\n",
       "    .dataframe tbody tr th:only-of-type {\n",
       "        vertical-align: middle;\n",
       "    }\n",
       "\n",
       "    .dataframe tbody tr th {\n",
       "        vertical-align: top;\n",
       "    }\n",
       "\n",
       "    .dataframe thead th {\n",
       "        text-align: right;\n",
       "    }\n",
       "</style>\n",
       "<table border=\"1\" class=\"dataframe\">\n",
       "  <thead>\n",
       "    <tr style=\"text-align: right;\">\n",
       "      <th></th>\n",
       "      <th>run_num</th>\n",
       "      <th>trial_num</th>\n",
       "      <th>rt</th>\n",
       "      <th>log_rt</th>\n",
       "      <th>coh_diff</th>\n",
       "      <th>right_coherence</th>\n",
       "      <th>left_coherence</th>\n",
       "      <th>appear_time_time</th>\n",
       "      <th>press_time_error</th>\n",
       "      <th>press_time_time</th>\n",
       "      <th>incorrect_resp</th>\n",
       "      <th>pressed</th>\n",
       "      <th>correct_resp</th>\n",
       "      <th>correct</th>\n",
       "    </tr>\n",
       "  </thead>\n",
       "  <tbody>\n",
       "    <tr>\n",
       "      <th>0</th>\n",
       "      <td>0</td>\n",
       "      <td>0</td>\n",
       "      <td>2.941615</td>\n",
       "      <td>1.078959</td>\n",
       "      <td>0.06</td>\n",
       "      <td>0.06</td>\n",
       "      <td>0.00</td>\n",
       "      <td>614.707281</td>\n",
       "      <td>0.000510</td>\n",
       "      <td>617.648896</td>\n",
       "      <td>1</td>\n",
       "      <td>1</td>\n",
       "      <td>4</td>\n",
       "      <td>False</td>\n",
       "    </tr>\n",
       "    <tr>\n",
       "      <th>1</th>\n",
       "      <td>0</td>\n",
       "      <td>1</td>\n",
       "      <td>1.573070</td>\n",
       "      <td>0.453029</td>\n",
       "      <td>0.06</td>\n",
       "      <td>0.24</td>\n",
       "      <td>0.30</td>\n",
       "      <td>618.666397</td>\n",
       "      <td>0.000475</td>\n",
       "      <td>620.239467</td>\n",
       "      <td>4</td>\n",
       "      <td>4</td>\n",
       "      <td>1</td>\n",
       "      <td>False</td>\n",
       "    </tr>\n",
       "    <tr>\n",
       "      <th>2</th>\n",
       "      <td>0</td>\n",
       "      <td>2</td>\n",
       "      <td>2.810989</td>\n",
       "      <td>1.033537</td>\n",
       "      <td>0.00</td>\n",
       "      <td>0.00</td>\n",
       "      <td>0.00</td>\n",
       "      <td>621.275211</td>\n",
       "      <td>0.000544</td>\n",
       "      <td>624.086200</td>\n",
       "      <td>1</td>\n",
       "      <td>4</td>\n",
       "      <td>4</td>\n",
       "      <td>True</td>\n",
       "    </tr>\n",
       "    <tr>\n",
       "      <th>3</th>\n",
       "      <td>0</td>\n",
       "      <td>3</td>\n",
       "      <td>0.872496</td>\n",
       "      <td>-0.136397</td>\n",
       "      <td>0.24</td>\n",
       "      <td>0.00</td>\n",
       "      <td>0.24</td>\n",
       "      <td>624.850929</td>\n",
       "      <td>0.001483</td>\n",
       "      <td>625.723425</td>\n",
       "      <td>4</td>\n",
       "      <td>1</td>\n",
       "      <td>1</td>\n",
       "      <td>True</td>\n",
       "    </tr>\n",
       "    <tr>\n",
       "      <th>4</th>\n",
       "      <td>0</td>\n",
       "      <td>4</td>\n",
       "      <td>1.818831</td>\n",
       "      <td>0.598194</td>\n",
       "      <td>0.12</td>\n",
       "      <td>0.00</td>\n",
       "      <td>0.12</td>\n",
       "      <td>626.784654</td>\n",
       "      <td>0.000755</td>\n",
       "      <td>628.603485</td>\n",
       "      <td>4</td>\n",
       "      <td>1</td>\n",
       "      <td>1</td>\n",
       "      <td>True</td>\n",
       "    </tr>\n",
       "  </tbody>\n",
       "</table>\n",
       "</div>"
      ],
      "text/plain": [
       "   run_num  trial_num        rt    log_rt  coh_diff  right_coherence  \\\n",
       "0        0          0  2.941615  1.078959      0.06             0.06   \n",
       "1        0          1  1.573070  0.453029      0.06             0.24   \n",
       "2        0          2  2.810989  1.033537      0.00             0.00   \n",
       "3        0          3  0.872496 -0.136397      0.24             0.00   \n",
       "4        0          4  1.818831  0.598194      0.12             0.00   \n",
       "\n",
       "   left_coherence  appear_time_time  press_time_error  press_time_time  \\\n",
       "0            0.00        614.707281          0.000510       617.648896   \n",
       "1            0.30        618.666397          0.000475       620.239467   \n",
       "2            0.00        621.275211          0.000544       624.086200   \n",
       "3            0.24        624.850929          0.001483       625.723425   \n",
       "4            0.12        626.784654          0.000755       628.603485   \n",
       "\n",
       "  incorrect_resp pressed correct_resp  correct  \n",
       "0              1       1            4    False  \n",
       "1              4       4            1    False  \n",
       "2              1       4            4     True  \n",
       "3              4       1            1     True  \n",
       "4              4       1            1     True  "
      ]
     },
     "execution_count": 98,
     "metadata": {},
     "output_type": "execute_result"
    }
   ],
   "source": [
    "# let's add a new column for the absolute value of the coherence difference\n",
    "df['coh_diff'] = np.abs(df['right_coherence'] - df['left_coherence'])\n",
    "\n",
    "# and make a log rt\n",
    "df['log_rt'] = np.log(df['rt'])\n",
    "\n",
    "df['trial_num'] = np.arange(len(df))\n",
    "\n",
    "df = df[['run_num', 'trial_num', 'rt', 'log_rt', 'coh_diff',   \n",
    "         'right_coherence', 'left_coherence', 'appear_time_time',\n",
    "         'press_time_error', 'press_time_time', 'incorrect_resp', 'pressed',\n",
    "         'correct_resp', 'correct']]\n",
    "\n",
    "# show it\n",
    "df.head()"
   ]
  },
  {
   "cell_type": "markdown",
   "metadata": {
    "slideshow": {
     "slide_type": "slide"
    }
   },
   "source": [
    "# Grouping data\n",
    "\n",
    "- The `groupby` method allows you to create different groupings of your data"
   ]
  },
  {
   "cell_type": "code",
   "execution_count": 99,
   "metadata": {},
   "outputs": [
    {
     "data": {
      "text/plain": [
       "Index(['run_num', 'trial_num', 'rt', 'log_rt', 'coh_diff', 'right_coherence',\n",
       "       'left_coherence', 'appear_time_time', 'press_time_error',\n",
       "       'press_time_time', 'incorrect_resp', 'pressed', 'correct_resp',\n",
       "       'correct'],\n",
       "      dtype='object')"
      ]
     },
     "execution_count": 99,
     "metadata": {},
     "output_type": "execute_result"
    }
   ],
   "source": [
    "df.columns"
   ]
  },
  {
   "cell_type": "code",
   "execution_count": 101,
   "metadata": {},
   "outputs": [
    {
     "data": {
      "text/plain": [
       "coh_diff\n",
       "0.00    48\n",
       "0.06    40\n",
       "0.12    64\n",
       "0.18    48\n",
       "0.24    32\n",
       "0.30    16\n",
       "Name: correct, dtype: int64"
      ]
     },
     "execution_count": 101,
     "metadata": {},
     "output_type": "execute_result"
    }
   ],
   "source": [
    "df.groupby('coh_diff')['correct'].count()"
   ]
  },
  {
   "cell_type": "code",
   "execution_count": 106,
   "metadata": {},
   "outputs": [
    {
     "name": "stdout",
     "output_type": "stream",
     "text": [
      "0.0 0.6041666666666666\n",
      "0.06 0.75\n",
      "0.12 0.78125\n",
      "0.18 0.9583333333333334\n",
      "0.24 0.90625\n",
      "0.3 1.0\n"
     ]
    }
   ],
   "source": [
    "ucd = df['coh_diff'].unique()\n",
    "ucd.sort()\n",
    "ucd\n",
    "for cd in ucd:\n",
    "    print(cd, df.loc[df['coh_diff']==cd, 'correct'].mean())"
   ]
  },
  {
   "cell_type": "code",
   "execution_count": 109,
   "metadata": {},
   "outputs": [
    {
     "data": {
      "text/plain": [
       "<matplotlib.axes._subplots.AxesSubplot at 0x7fc11eb45a90>"
      ]
     },
     "execution_count": 109,
     "metadata": {},
     "output_type": "execute_result"
    },
    {
     "data": {
      "image/png": "[encoded data removed]",
      "text/plain": [
       "<Figure size 432x288 with 1 Axes>"
      ]
     },
     "metadata": {
      "needs_background": "light"
     },
     "output_type": "display_data"
    }
   ],
   "source": [
    "# let's look at performance as a function of coh_diff\n",
    "df.groupby('coh_diff')['correct'].mean().plot()"
   ]
  },
  {
   "cell_type": "code",
   "execution_count": 111,
   "metadata": {},
   "outputs": [
    {
     "data": {
      "text/plain": [
       "<matplotlib.axes._subplots.AxesSubplot at 0x7fc121e408d0>"
      ]
     },
     "execution_count": 111,
     "metadata": {},
     "output_type": "execute_result"
    },
    {
     "data": {
      "image/png": "[encoded data removed]",
      "text/plain": [
       "<Figure size 432x288 with 1 Axes>"
      ]
     },
     "metadata": {
      "needs_background": "light"
     },
     "output_type": "display_data"
    }
   ],
   "source": [
    "# how about rts\n",
    "df.groupby('coh_diff')['rt'].mean().plot()"
   ]
  },
  {
   "cell_type": "code",
   "execution_count": 123,
   "metadata": {},
   "outputs": [
    {
     "data": {
      "text/plain": [
       "<matplotlib.axes._subplots.AxesSubplot at 0x7fc11dc8e090>"
      ]
     },
     "execution_count": 123,
     "metadata": {},
     "output_type": "execute_result"
    },
    {
     "data": {
      "image/png": "[encoded data removed]",
      "text/plain": [
       "<Figure size 432x288 with 1 Axes>"
      ]
     },
     "metadata": {
      "needs_background": "light"
     },
     "output_type": "display_data"
    }
   ],
   "source": [
    "# you can group by more than one column\n",
    "df.groupby(['coh_diff', 'correct'])['rt'].mean().unstack().plot()"
   ]
  },
  {
   "cell_type": "code",
   "execution_count": 118,
   "metadata": {},
   "outputs": [
    {
     "data": {
      "text/plain": [
       "correct\n",
       "False    0.861994\n",
       "True     0.790811\n",
       "Name: rt, dtype: float64"
      ]
     },
     "execution_count": 118,
     "metadata": {},
     "output_type": "execute_result"
    }
   ],
   "source": [
    "# you can group by more than one column\n",
    "df.groupby(['correct'])['rt'].mean()"
   ]
  },
  {
   "cell_type": "code",
   "execution_count": 121,
   "metadata": {},
   "outputs": [
    {
     "data": {
      "text/plain": [
       "correct_resp\n",
       "1   -0.323040\n",
       "4   -0.277191\n",
       "Name: log_rt, dtype: float64"
      ]
     },
     "execution_count": 121,
     "metadata": {},
     "output_type": "execute_result"
    }
   ],
   "source": [
    "# is there a speed bias?\n",
    "df.groupby(['correct_resp'])['log_rt'].mean()"
   ]
  },
  {
   "cell_type": "code",
   "execution_count": 120,
   "metadata": {},
   "outputs": [
    {
     "data": {
      "text/plain": [
       "correct_resp\n",
       "1    0.879032\n",
       "4    0.733871\n",
       "Name: correct, dtype: float64"
      ]
     },
     "execution_count": 120,
     "metadata": {},
     "output_type": "execute_result"
    }
   ],
   "source": [
    "# is there an accuracy bias?\n",
    "df.groupby(['correct_resp'])['correct'].mean()"
   ]
  },
  {
   "cell_type": "markdown",
   "metadata": {
    "slideshow": {
     "slide_type": "slide"
    }
   },
   "source": [
    "## Assignment before next class\n",
    "\n",
    "- You SMILE experiment is due by Thursday next week.\n",
    "- I will also upload a small data processing and analysis homework to get some practice with Pandas. This will also be due next Thursday.\n",
    "\n",
    "### See you next week!!!"
   ]
  }
 ],
 "metadata": {
  "celltoolbar": "Slideshow",
  "kernelspec": {
   "display_name": "Python 3",
   "language": "python",
   "name": "python3"
  },
  "language_info": {
   "codemirror_mode": {
    "name": "ipython",
    "version": 3
   },
   "file_extension": ".py",
   "mimetype": "text/x-python",
   "name": "python",
   "nbconvert_exporter": "python",
   "pygments_lexer": "ipython3",
   "version": "3.7.7"
  },
  "rise": {
   "scroll": true
  }
 },
 "nbformat": 4,
 "nbformat_minor": 2
}
