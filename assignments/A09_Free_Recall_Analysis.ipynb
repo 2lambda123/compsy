{
 "cells": [
  {
   "cell_type": "markdown",
   "metadata": {
    "slideshow": {
     "slide_type": "slide"
    }
   },
   "source": [
    "# Assignment 9: Free Recall Analysis\n",
    "## Computational Methods in Psychology (and Neuroscience)\n",
    "### Psychology 4215/7215 --- Fall 2021\n"
   ]
  },
  {
   "cell_type": "markdown",
   "metadata": {
    "slideshow": {
     "slide_type": "slide"
    }
   },
   "source": [
    "# Objectives\n",
    "\n",
    "Upon completion of this assignment, students will have:\n",
    "\n",
    "1. Read in free recall data\n",
    "2. Calculate accuracy and temporal factor like the class lecture\n",
    "3. Combine those two DataFrames\n",
    "4. Test the relationship between temporal factor and accuracy as a function of condition (Control vs. DRM)"
   ]
  },
  {
   "cell_type": "markdown",
   "metadata": {
    "slideshow": {
     "slide_type": "slide"
    }
   },
   "source": [
    "# Assignment\n",
    "\n",
    "* Write code in a Jupyter notebook (after making a copy and renaming it to have your userid in the title --- e.g., A09_Free_Recall_Analysis_mst3k).\n",
    "\n",
    "\n",
    "## Details\n",
    "\n",
    "Way back in 2010, I published a paper that demonstrated a positive relationship between the total number of items recalled and the degree of temporal clustering (Sederberg et al. 2010, *Memory & Cognition*). For this assignment we're going to test whether we see trends of that same effect holding up in the small dataset we collected in class (note, it usually takes more data to see a stable significant result.)\n",
    "\n",
    "Below is code that will load in the preprocessed data from the free recall experiment. As long as you have updated this repository from GitHub, including downloading the `FR_egg_all.egg` file, the code should work unchanged to load in the data and run the two key analyses to calculate accuracy and temporal factor (the measure of temporal clustering).\n",
    "\n",
    "Your task is to run a regression and then plot the result of accuracy as a function of temporal factor and list condition (Control or DRM).\n",
    "\n",
    "All the code you need to perform these analyses is in the recent lesson notebooks. \n",
    "\n",
    "We have some code below to help you get started reading in the data, so that you can focus on the regression and plot. \n",
    "\n",
    "**I've left in the output of what the results should look like as a guide so you know when you have everything right.**\n",
    "\n",
    "* ***When you are done, save this notebook as HTML (`File -> Download as -> HTML`) and upload it to the matching assignment on UVACollab.***  "
   ]
  },
  {
   "cell_type": "markdown",
   "metadata": {
    "slideshow": {
     "slide_type": "slide"
    }
   },
   "source": [
    "# New libraries to install\n",
    "\n",
    "You're going to need a new plotting library, so run this line at your Anaconda Prompt/Terminal:\n",
    "\n",
    "`conda install -c conda-forge plotnine` \n",
    "\n",
    "You'll also need this library for free recall analysis:\n",
    "\n",
    "`pip install quail` "
   ]
  },
  {
   "cell_type": "markdown",
   "metadata": {
    "slideshow": {
     "slide_type": "slide"
    }
   },
   "source": [
    "## General Imports"
   ]
  },
  {
   "cell_type": "code",
   "execution_count": 23,
   "metadata": {},
   "outputs": [],
   "source": [
    "# import some useful libraries\n",
    "import numpy as np                # numerical analysis linear algebra\n",
    "import pandas as pd               # efficient tables\n",
    "import matplotlib.pyplot as plt   # plotting\n",
    "import scipy.stats.distributions as dists     # probability distributions\n",
    "from scipy import stats\n",
    "\n",
    "# plotnine for a plot\n",
    "import plotnine as pn\n",
    "\n",
    "# statsmodels for stats\n",
    "import statsmodels.formula.api as smf\n",
    "import statsmodels.api as sm\n",
    "\n",
    "# make sure to load quail!!!\n",
    "import quail"
   ]
  },
  {
   "cell_type": "markdown",
   "metadata": {
    "slideshow": {
     "slide_type": "slide"
    }
   },
   "source": [
    "## Load the Quail EGG"
   ]
  },
  {
   "cell_type": "code",
   "execution_count": 2,
   "metadata": {},
   "outputs": [
    {
     "name": "stdout",
     "output_type": "stream",
     "text": [
      "Number of subjects: 13\n",
      "Number of lists per subject: 10\n",
      "Number of words per list: 12\n",
      "Date created: Tue Nov 16 20:31:12 2021\n",
      "Meta data: {}\n"
     ]
    }
   ],
   "source": [
    "egg_all = quail.load_egg('FR_egg_all.egg')\n",
    "egg_all.info()"
   ]
  },
  {
   "cell_type": "code",
   "execution_count": 11,
   "metadata": {},
   "outputs": [
    {
     "data": {
      "text/plain": [
       "['Control',\n",
       " 'Control',\n",
       " 'Control',\n",
       " 'Control',\n",
       " 'Control',\n",
       " 'DRM',\n",
       " 'DRM',\n",
       " 'DRM',\n",
       " 'DRM',\n",
       " 'DRM']"
      ]
     },
     "execution_count": 11,
     "metadata": {},
     "output_type": "execute_result"
    }
   ],
   "source": [
    "# set up the list groups\n",
    "# first lists per subj are Control, next are DRM\n",
    "listgroup = ['Control']*(egg_all.n_lists//2) + ['DRM']*(egg_all.n_lists//2)\n",
    "listgroup"
   ]
  },
  {
   "cell_type": "markdown",
   "metadata": {},
   "source": [
    "## Calculate the values of interest"
   ]
  },
  {
   "cell_type": "code",
   "execution_count": 15,
   "metadata": {},
   "outputs": [
    {
     "data": {
      "text/html": [
       "<div>\n",
       "<style scoped>\n",
       "    .dataframe tbody tr th:only-of-type {\n",
       "        vertical-align: middle;\n",
       "    }\n",
       "\n",
       "    .dataframe tbody tr th {\n",
       "        vertical-align: top;\n",
       "    }\n",
       "\n",
       "    .dataframe thead th {\n",
       "        text-align: right;\n",
       "    }\n",
       "</style>\n",
       "<table border=\"1\" class=\"dataframe\">\n",
       "  <thead>\n",
       "    <tr style=\"text-align: right;\">\n",
       "      <th></th>\n",
       "      <th>Subject</th>\n",
       "      <th>List</th>\n",
       "      <th>Accuracy</th>\n",
       "    </tr>\n",
       "  </thead>\n",
       "  <tbody>\n",
       "    <tr>\n",
       "      <th>0</th>\n",
       "      <td>0</td>\n",
       "      <td>Control</td>\n",
       "      <td>0.283333</td>\n",
       "    </tr>\n",
       "    <tr>\n",
       "      <th>1</th>\n",
       "      <td>0</td>\n",
       "      <td>DRM</td>\n",
       "      <td>0.516667</td>\n",
       "    </tr>\n",
       "    <tr>\n",
       "      <th>2</th>\n",
       "      <td>1</td>\n",
       "      <td>Control</td>\n",
       "      <td>0.316667</td>\n",
       "    </tr>\n",
       "    <tr>\n",
       "      <th>3</th>\n",
       "      <td>1</td>\n",
       "      <td>DRM</td>\n",
       "      <td>0.500000</td>\n",
       "    </tr>\n",
       "    <tr>\n",
       "      <th>4</th>\n",
       "      <td>2</td>\n",
       "      <td>Control</td>\n",
       "      <td>0.366667</td>\n",
       "    </tr>\n",
       "  </tbody>\n",
       "</table>\n",
       "</div>"
      ],
      "text/plain": [
       "   Subject     List  Accuracy\n",
       "0        0  Control  0.283333\n",
       "1        0      DRM  0.516667\n",
       "2        1  Control  0.316667\n",
       "3        1      DRM  0.500000\n",
       "4        2  Control  0.366667"
      ]
     },
     "execution_count": 15,
     "metadata": {},
     "output_type": "execute_result"
    }
   ],
   "source": [
    "# calculate accuracy\n",
    "acc = quail.analyze(egg_all, analysis='accuracy', \n",
    "                    listgroup=listgroup)\n",
    "acc_df = acc.get_data().reset_index()\n",
    "cols = list(acc_df.columns)\n",
    "cols[2] = 'Accuracy'\n",
    "acc_df.columns = cols\n",
    "acc_df.head()"
   ]
  },
  {
   "cell_type": "code",
   "execution_count": 17,
   "metadata": {},
   "outputs": [
    {
     "data": {
      "text/html": [
       "<div>\n",
       "<style scoped>\n",
       "    .dataframe tbody tr th:only-of-type {\n",
       "        vertical-align: middle;\n",
       "    }\n",
       "\n",
       "    .dataframe tbody tr th {\n",
       "        vertical-align: top;\n",
       "    }\n",
       "\n",
       "    .dataframe thead th {\n",
       "        text-align: right;\n",
       "    }\n",
       "</style>\n",
       "<table border=\"1\" class=\"dataframe\">\n",
       "  <thead>\n",
       "    <tr style=\"text-align: right;\">\n",
       "      <th></th>\n",
       "      <th>Subject</th>\n",
       "      <th>List</th>\n",
       "      <th>TemFact</th>\n",
       "    </tr>\n",
       "  </thead>\n",
       "  <tbody>\n",
       "    <tr>\n",
       "      <th>0</th>\n",
       "      <td>0</td>\n",
       "      <td>Control</td>\n",
       "      <td>0.738737</td>\n",
       "    </tr>\n",
       "    <tr>\n",
       "      <th>1</th>\n",
       "      <td>0</td>\n",
       "      <td>DRM</td>\n",
       "      <td>0.607766</td>\n",
       "    </tr>\n",
       "    <tr>\n",
       "      <th>2</th>\n",
       "      <td>1</td>\n",
       "      <td>Control</td>\n",
       "      <td>0.538030</td>\n",
       "    </tr>\n",
       "    <tr>\n",
       "      <th>3</th>\n",
       "      <td>1</td>\n",
       "      <td>DRM</td>\n",
       "      <td>0.548819</td>\n",
       "    </tr>\n",
       "    <tr>\n",
       "      <th>4</th>\n",
       "      <td>2</td>\n",
       "      <td>Control</td>\n",
       "      <td>0.562283</td>\n",
       "    </tr>\n",
       "  </tbody>\n",
       "</table>\n",
       "</div>"
      ],
      "text/plain": [
       "   Subject     List   TemFact\n",
       "0        0  Control  0.738737\n",
       "1        0      DRM  0.607766\n",
       "2        1  Control  0.538030\n",
       "3        1      DRM  0.548819\n",
       "4        2  Control  0.562283"
      ]
     },
     "execution_count": 17,
     "metadata": {},
     "output_type": "execute_result"
    }
   ],
   "source": [
    "# calculate temporal factor\n",
    "tfact = quail.analyze(egg_all, analysis='temporal', \n",
    "                      listgroup=listgroup)\n",
    "tf_df = tfact.get_data().reset_index()\n",
    "cols = list(tf_df.columns)\n",
    "cols[2] = 'TemFact'\n",
    "tf_df.columns = cols\n",
    "tf_df.head()"
   ]
  },
  {
   "cell_type": "code",
   "execution_count": 20,
   "metadata": {},
   "outputs": [],
   "source": [
    "# Merge the two data frames into a single data frame\n",
    "df = pd.merge(acc_df, tf_df, on=['Subject', 'List'])"
   ]
  },
  {
   "cell_type": "markdown",
   "metadata": {},
   "source": [
    "# Your code goes below here\n",
    "\n",
    "All code above should work without modification."
   ]
  },
  {
   "cell_type": "code",
   "execution_count": 21,
   "metadata": {},
   "outputs": [
    {
     "data": {
      "text/html": [
       "<table class=\"simpletable\">\n",
       "<caption>OLS Regression Results</caption>\n",
       "<tr>\n",
       "  <th>Dep. Variable:</th>        <td>Accuracy</td>     <th>  R-squared:         </th> <td>   0.219</td>\n",
       "</tr>\n",
       "<tr>\n",
       "  <th>Model:</th>                   <td>OLS</td>       <th>  Adj. R-squared:    </th> <td>   0.113</td>\n",
       "</tr>\n",
       "<tr>\n",
       "  <th>Method:</th>             <td>Least Squares</td>  <th>  F-statistic:       </th> <td>   2.061</td>\n",
       "</tr>\n",
       "<tr>\n",
       "  <th>Date:</th>             <td>Tue, 16 Nov 2021</td> <th>  Prob (F-statistic):</th>  <td> 0.135</td> \n",
       "</tr>\n",
       "<tr>\n",
       "  <th>Time:</th>                 <td>21:12:10</td>     <th>  Log-Likelihood:    </th> <td>  11.122</td>\n",
       "</tr>\n",
       "<tr>\n",
       "  <th>No. Observations:</th>      <td>    26</td>      <th>  AIC:               </th> <td>  -14.24</td>\n",
       "</tr>\n",
       "<tr>\n",
       "  <th>Df Residuals:</th>          <td>    22</td>      <th>  BIC:               </th> <td>  -9.211</td>\n",
       "</tr>\n",
       "<tr>\n",
       "  <th>Df Model:</th>              <td>     3</td>      <th>                     </th>     <td> </td>   \n",
       "</tr>\n",
       "<tr>\n",
       "  <th>Covariance Type:</th>      <td>nonrobust</td>    <th>                     </th>     <td> </td>   \n",
       "</tr>\n",
       "</table>\n",
       "<table class=\"simpletable\">\n",
       "<tr>\n",
       "           <td></td>              <th>coef</th>     <th>std err</th>      <th>t</th>      <th>P>|t|</th>  <th>[0.025</th>    <th>0.975]</th>  \n",
       "</tr>\n",
       "<tr>\n",
       "  <th>Intercept</th>           <td>   -0.0392</td> <td>    0.393</td> <td>   -0.100</td> <td> 0.921</td> <td>   -0.855</td> <td>    0.776</td>\n",
       "</tr>\n",
       "<tr>\n",
       "  <th>List[T.DRM]</th>         <td>    0.2442</td> <td>    0.561</td> <td>    0.435</td> <td> 0.668</td> <td>   -0.920</td> <td>    1.408</td>\n",
       "</tr>\n",
       "<tr>\n",
       "  <th>TemFact</th>             <td>    0.8528</td> <td>    0.613</td> <td>    1.391</td> <td> 0.178</td> <td>   -0.418</td> <td>    2.124</td>\n",
       "</tr>\n",
       "<tr>\n",
       "  <th>TemFact:List[T.DRM]</th> <td>   -0.1187</td> <td>    0.929</td> <td>   -0.128</td> <td> 0.900</td> <td>   -2.046</td> <td>    1.809</td>\n",
       "</tr>\n",
       "</table>\n",
       "<table class=\"simpletable\">\n",
       "<tr>\n",
       "  <th>Omnibus:</th>       <td> 3.523</td> <th>  Durbin-Watson:     </th> <td>   0.934</td>\n",
       "</tr>\n",
       "<tr>\n",
       "  <th>Prob(Omnibus):</th> <td> 0.172</td> <th>  Jarque-Bera (JB):  </th> <td>   1.919</td>\n",
       "</tr>\n",
       "<tr>\n",
       "  <th>Skew:</th>          <td> 0.555</td> <th>  Prob(JB):          </th> <td>   0.383</td>\n",
       "</tr>\n",
       "<tr>\n",
       "  <th>Kurtosis:</th>      <td> 3.735</td> <th>  Cond. No.          </th> <td>    47.9</td>\n",
       "</tr>\n",
       "</table><br/><br/>Notes:<br/>[1] Standard Errors assume that the covariance matrix of the errors is correctly specified."
      ],
      "text/plain": [
       "<class 'statsmodels.iolib.summary.Summary'>\n",
       "\"\"\"\n",
       "                            OLS Regression Results                            \n",
       "==============================================================================\n",
       "Dep. Variable:               Accuracy   R-squared:                       0.219\n",
       "Model:                            OLS   Adj. R-squared:                  0.113\n",
       "Method:                 Least Squares   F-statistic:                     2.061\n",
       "Date:                Tue, 16 Nov 2021   Prob (F-statistic):              0.135\n",
       "Time:                        21:12:10   Log-Likelihood:                 11.122\n",
       "No. Observations:                  26   AIC:                            -14.24\n",
       "Df Residuals:                      22   BIC:                            -9.211\n",
       "Df Model:                           3                                         \n",
       "Covariance Type:            nonrobust                                         \n",
       "=======================================================================================\n",
       "                          coef    std err          t      P>|t|      [0.025      0.975]\n",
       "---------------------------------------------------------------------------------------\n",
       "Intercept              -0.0392      0.393     -0.100      0.921      -0.855       0.776\n",
       "List[T.DRM]             0.2442      0.561      0.435      0.668      -0.920       1.408\n",
       "TemFact                 0.8528      0.613      1.391      0.178      -0.418       2.124\n",
       "TemFact:List[T.DRM]    -0.1187      0.929     -0.128      0.900      -2.046       1.809\n",
       "==============================================================================\n",
       "Omnibus:                        3.523   Durbin-Watson:                   0.934\n",
       "Prob(Omnibus):                  0.172   Jarque-Bera (JB):                1.919\n",
       "Skew:                           0.555   Prob(JB):                        0.383\n",
       "Kurtosis:                       3.735   Cond. No.                         47.9\n",
       "==============================================================================\n",
       "\n",
       "Notes:\n",
       "[1] Standard Errors assume that the covariance matrix of the errors is correctly specified.\n",
       "\"\"\""
      ]
     },
     "execution_count": 21,
     "metadata": {},
     "output_type": "execute_result"
    }
   ],
   "source": [
    "# set up a model with Accuracy as the dependent variable\n",
    "# predicted by the interaction between Temporal Factor (TemFact)\n",
    "# and list condition (List)\n",
    "# HINT: use the `smf.ols` function from the lessons\n"
   ]
  },
  {
   "cell_type": "code",
   "execution_count": 22,
   "metadata": {},
   "outputs": [
    {
     "data": {
      "text/html": [
       "<div>\n",
       "<style scoped>\n",
       "    .dataframe tbody tr th:only-of-type {\n",
       "        vertical-align: middle;\n",
       "    }\n",
       "\n",
       "    .dataframe tbody tr th {\n",
       "        vertical-align: top;\n",
       "    }\n",
       "\n",
       "    .dataframe thead th {\n",
       "        text-align: right;\n",
       "    }\n",
       "</style>\n",
       "<table border=\"1\" class=\"dataframe\">\n",
       "  <thead>\n",
       "    <tr style=\"text-align: right;\">\n",
       "      <th></th>\n",
       "      <th>sum_sq</th>\n",
       "      <th>df</th>\n",
       "      <th>F</th>\n",
       "      <th>PR(&gt;F)</th>\n",
       "    </tr>\n",
       "  </thead>\n",
       "  <tbody>\n",
       "    <tr>\n",
       "      <th>List</th>\n",
       "      <td>0.160730</td>\n",
       "      <td>1.0</td>\n",
       "      <td>5.464643</td>\n",
       "      <td>0.028905</td>\n",
       "    </tr>\n",
       "    <tr>\n",
       "      <th>TemFact</th>\n",
       "      <td>0.088938</td>\n",
       "      <td>1.0</td>\n",
       "      <td>3.023786</td>\n",
       "      <td>0.096028</td>\n",
       "    </tr>\n",
       "    <tr>\n",
       "      <th>TemFact:List</th>\n",
       "      <td>0.000480</td>\n",
       "      <td>1.0</td>\n",
       "      <td>0.016321</td>\n",
       "      <td>0.899503</td>\n",
       "    </tr>\n",
       "    <tr>\n",
       "      <th>Residual</th>\n",
       "      <td>0.647078</td>\n",
       "      <td>22.0</td>\n",
       "      <td>NaN</td>\n",
       "      <td>NaN</td>\n",
       "    </tr>\n",
       "  </tbody>\n",
       "</table>\n",
       "</div>"
      ],
      "text/plain": [
       "                sum_sq    df         F    PR(>F)\n",
       "List          0.160730   1.0  5.464643  0.028905\n",
       "TemFact       0.088938   1.0  3.023786  0.096028\n",
       "TemFact:List  0.000480   1.0  0.016321  0.899503\n",
       "Residual      0.647078  22.0       NaN       NaN"
      ]
     },
     "execution_count": 22,
     "metadata": {},
     "output_type": "execute_result"
    }
   ],
   "source": [
    "# test for significance with a type 2 ANOVA\n",
    "# hint, use the `sm.stats.anova_lm` function (as seen in previous classes)\n"
   ]
  },
  {
   "cell_type": "code",
   "execution_count": 28,
   "metadata": {},
   "outputs": [
    {
     "data": {
      "image/png": "[encoded data removed]",
      "text/plain": [
       "<Figure size 640x480 with 1 Axes>"
      ]
     },
     "metadata": {},
     "output_type": "display_data"
    },
    {
     "data": {
      "text/plain": [
       "<ggplot: (8737448694384)>"
      ]
     },
     "execution_count": 28,
     "metadata": {},
     "output_type": "execute_result"
    }
   ],
   "source": [
    "# use plotnine to make a plot of the results with\n",
    "# Accuracy as a function of TemFact, with separate colors for list condition (List)\n",
    "# YOU FILL IN THE AAA, BBB, CCC below\n",
    "p = (pn.ggplot(df, pn.aes('AAA', 'BBB', color='CCC'))\n",
    "     + pn.geom_point()   # adds each data point\n",
    "     + pn.geom_smooth(method='lm') # adds a linear model fit\n",
    "    )  \n",
    "p"
   ]
  }
 ],
 "metadata": {
  "celltoolbar": "Slideshow",
  "kernelspec": {
   "display_name": "Python 3 (ipykernel)",
   "language": "python",
   "name": "python3"
  },
  "language_info": {
   "codemirror_mode": {
    "name": "ipython",
    "version": 3
   },
   "file_extension": ".py",
   "mimetype": "text/x-python",
   "name": "python",
   "nbconvert_exporter": "python",
   "pygments_lexer": "ipython3",
   "version": "3.9.7"
  },
  "rise": {
   "scroll": true
  }
 },
 "nbformat": 4,
 "nbformat_minor": 2
}
