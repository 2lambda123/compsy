{
 "cells": [
  {
   "cell_type": "markdown",
   "metadata": {
    "slideshow": {
     "slide_type": "slide"
    }
   },
   "source": [
    "# Assignment 7: D-Prime Plot\n",
    "## Computational Methods in Psychology (and Neuroscience)\n",
    "### Psychology 4215/7215 --- Fall 2021\n"
   ]
  },
  {
   "cell_type": "markdown",
   "metadata": {
    "slideshow": {
     "slide_type": "slide"
    }
   },
   "source": [
    "# Objectives\n",
    "\n",
    "Upon completion of this assignment, students will have:\n",
    "\n",
    "1. Read in all the recognition memory data\n",
    "2. Performed some simple data clean-up (code provided)\n",
    "3. Calculated d-prime for the word recognition task\n",
    "4. Plotted d-prime as a function of valence and condition"
   ]
  },
  {
   "cell_type": "markdown",
   "metadata": {
    "slideshow": {
     "slide_type": "slide"
    }
   },
   "source": [
    "# Assignment\n",
    "\n",
    "* Write code in a Jupyter notebook (after making a copy and renaming it to have your userid in the title --- e.g., A07_DPrime_Plot_mst3k).\n",
    "\n",
    "\n",
    "## Details\n",
    "\n",
    "Below is code that will load in the data from the word recognition memory experiment. As long as you have updated this repository from GitHub and unzipped the `recog_dat.zip` file in the `lessons` directory, the code should work unchanged to load in the data, create two data frames, and perform some minor clean-up of the data.\n",
    "\n",
    "Your task is to calculate d-prime for the word recognition data and then plot the result as a function of valence (negative, neutral, positive) and condition (mixed and pure).\n",
    "\n",
    "All the code you need to perform this analysis is in the most recent lesson notebook. You will need to identify the correct pieces of code to copy into this notebook and how to modify it to examine valence as opposed to image location. \n",
    "\n",
    "We have some code below to help you get started reading in the data, so that you can focus on the d-prime calculation and plot.\n",
    "\n",
    "* ***When you are done, save this notebook as HTML (`File -> Download as -> HTML`) and upload it to the matching assignment on UVACollab.***  "
   ]
  },
  {
   "cell_type": "markdown",
   "metadata": {
    "slideshow": {
     "slide_type": "slide"
    }
   },
   "source": [
    "# New library to install\n",
    "\n",
    "You're going to need a new plotting library, so run this line at your Anaconda Prompt/Terminal:\n",
    "\n",
    "`conda install -c conda-forge plotnine` "
   ]
  },
  {
   "cell_type": "markdown",
   "metadata": {
    "slideshow": {
     "slide_type": "slide"
    }
   },
   "source": [
    "## General Imports"
   ]
  },
  {
   "cell_type": "code",
   "execution_count": 1,
   "metadata": {},
   "outputs": [],
   "source": [
    "# import some useful libraries\n",
    "import numpy as np                # numerical analysis linear algebra\n",
    "import pandas as pd               # efficient tables\n",
    "import matplotlib.pyplot as plt   # plotting\n",
    "import plotnine as pn \n",
    "import scipy.stats.distributions as dists     # probability distributions\n",
    "from scipy import stats\n",
    "from glob import glob\n",
    "import os\n",
    "\n",
    "from smile.log import log2dl\n",
    "\n",
    "from ci_within import ci_within"
   ]
  },
  {
   "cell_type": "markdown",
   "metadata": {
    "slideshow": {
     "slide_type": "slide"
    }
   },
   "source": [
    "## Custom SLOG loading function"
   ]
  },
  {
   "cell_type": "code",
   "execution_count": 2,
   "metadata": {},
   "outputs": [],
   "source": [
    "# custom function to load slogs\n",
    "def load_all_subj_logs(data_dir, log_file):\n",
    "    # load in a list of all the subj\n",
    "    subjs = [os.path.splitext(os.path.split(filepath)[1])[0].split('_')[0]\n",
    "             for filepath in glob(os.path.join(data_dir, '*' + log_file + '.slog'))]\n",
    "    subjs.sort()\n",
    "    #print(subjs)\n",
    "    # loop over subj and their data\n",
    "    all_dat = []\n",
    "    for subj in subjs:\n",
    "        # set the file\n",
    "        log_path = os.path.join(data_dir, subj+'_'+log_file+'.slog')\n",
    "        print(log_path)\n",
    "\n",
    "        # load the data\n",
    "        try:\n",
    "            all_dat.extend(log2dl(log_path, subj=subj))\n",
    "        except:\n",
    "            pass\n",
    "\n",
    "    df = pd.DataFrame(all_dat)\n",
    "    \n",
    "    return df"
   ]
  },
  {
   "cell_type": "markdown",
   "metadata": {
    "slideshow": {
     "slide_type": "slide"
    }
   },
   "source": [
    "## Load in all the data"
   ]
  },
  {
   "cell_type": "code",
   "execution_count": 3,
   "metadata": {},
   "outputs": [
    {
     "name": "stdout",
     "output_type": "stream",
     "text": [
      "../lessons/recog_dat/s000_log_word_test.slog\n",
      "../lessons/recog_dat/s001_log_word_test.slog\n",
      "../lessons/recog_dat/s002_log_word_test.slog\n",
      "../lessons/recog_dat/s003_log_word_test.slog\n",
      "../lessons/recog_dat/s004_log_word_test.slog\n",
      "../lessons/recog_dat/s005_log_word_test.slog\n",
      "../lessons/recog_dat/s006_log_word_test.slog\n",
      "../lessons/recog_dat/s007_log_word_test.slog\n",
      "../lessons/recog_dat/s008_log_word_test.slog\n",
      "../lessons/recog_dat/s009_log_word_test.slog\n",
      "../lessons/recog_dat/s010_log_word_test.slog\n",
      "../lessons/recog_dat/s011_log_word_test.slog\n",
      "../lessons/recog_dat/s012_log_word_test.slog\n"
     ]
    },
    {
     "data": {
      "text/html": [
       "<div>\n",
       "<style scoped>\n",
       "    .dataframe tbody tr th:only-of-type {\n",
       "        vertical-align: middle;\n",
       "    }\n",
       "\n",
       "    .dataframe tbody tr th {\n",
       "        vertical-align: top;\n",
       "    }\n",
       "\n",
       "    .dataframe thead th {\n",
       "        text-align: right;\n",
       "    }\n",
       "</style>\n",
       "<table border=\"1\" class=\"dataframe\">\n",
       "  <thead>\n",
       "    <tr style=\"text-align: right;\">\n",
       "      <th></th>\n",
       "      <th>resp_map_target</th>\n",
       "      <th>resp_map_lure</th>\n",
       "      <th>block_num</th>\n",
       "      <th>trial_num</th>\n",
       "      <th>stim_on_time</th>\n",
       "      <th>stim_on_error</th>\n",
       "      <th>resp</th>\n",
       "      <th>resp_time_time</th>\n",
       "      <th>resp_time_error</th>\n",
       "      <th>rt</th>\n",
       "      <th>...</th>\n",
       "      <th>valence_sd</th>\n",
       "      <th>arousal_mean</th>\n",
       "      <th>arousal_sd</th>\n",
       "      <th>dominance_mean</th>\n",
       "      <th>dominance_sd</th>\n",
       "      <th>word_frequency</th>\n",
       "      <th>novelty</th>\n",
       "      <th>cond</th>\n",
       "      <th>subj</th>\n",
       "      <th>log_num</th>\n",
       "    </tr>\n",
       "  </thead>\n",
       "  <tbody>\n",
       "    <tr>\n",
       "      <th>0</th>\n",
       "      <td>F</td>\n",
       "      <td>J</td>\n",
       "      <td>0</td>\n",
       "      <td>0</td>\n",
       "      <td>101.188904</td>\n",
       "      <td>0.0</td>\n",
       "      <td>J</td>\n",
       "      <td>101.828010</td>\n",
       "      <td>0.000163</td>\n",
       "      <td>0.639106</td>\n",
       "      <td>...</td>\n",
       "      <td>1.6599999999999999</td>\n",
       "      <td>5.7599999999999998</td>\n",
       "      <td>2.5</td>\n",
       "      <td>6.25</td>\n",
       "      <td>2.1000000000000001</td>\n",
       "      <td>75</td>\n",
       "      <td>lure</td>\n",
       "      <td>mixed</td>\n",
       "      <td>s000</td>\n",
       "      <td>0</td>\n",
       "    </tr>\n",
       "    <tr>\n",
       "      <th>1</th>\n",
       "      <td>F</td>\n",
       "      <td>J</td>\n",
       "      <td>0</td>\n",
       "      <td>1</td>\n",
       "      <td>102.763942</td>\n",
       "      <td>0.0</td>\n",
       "      <td>F</td>\n",
       "      <td>103.238753</td>\n",
       "      <td>0.000167</td>\n",
       "      <td>0.474811</td>\n",
       "      <td>...</td>\n",
       "      <td>1.76</td>\n",
       "      <td>4.5099999999999998</td>\n",
       "      <td>2.6800000000000002</td>\n",
       "      <td>2.9500000000000002</td>\n",
       "      <td>2.1200000000000001</td>\n",
       "      <td>25</td>\n",
       "      <td>target</td>\n",
       "      <td>mixed</td>\n",
       "      <td>s000</td>\n",
       "      <td>0</td>\n",
       "    </tr>\n",
       "    <tr>\n",
       "      <th>2</th>\n",
       "      <td>F</td>\n",
       "      <td>J</td>\n",
       "      <td>0</td>\n",
       "      <td>2</td>\n",
       "      <td>104.222439</td>\n",
       "      <td>0.0</td>\n",
       "      <td>J</td>\n",
       "      <td>104.701179</td>\n",
       "      <td>0.000175</td>\n",
       "      <td>0.478740</td>\n",
       "      <td>...</td>\n",
       "      <td>2.1600000000000001</td>\n",
       "      <td>6.0700000000000003</td>\n",
       "      <td>2.1499999999999999</td>\n",
       "      <td>4.1699999999999999</td>\n",
       "      <td>2.3999999999999999</td>\n",
       "      <td>12</td>\n",
       "      <td>lure</td>\n",
       "      <td>mixed</td>\n",
       "      <td>s000</td>\n",
       "      <td>0</td>\n",
       "    </tr>\n",
       "    <tr>\n",
       "      <th>3</th>\n",
       "      <td>F</td>\n",
       "      <td>J</td>\n",
       "      <td>0</td>\n",
       "      <td>3</td>\n",
       "      <td>105.267120</td>\n",
       "      <td>0.0</td>\n",
       "      <td>J</td>\n",
       "      <td>105.840203</td>\n",
       "      <td>0.000205</td>\n",
       "      <td>0.573082</td>\n",
       "      <td>...</td>\n",
       "      <td>2.0099999999999998</td>\n",
       "      <td>5.5</td>\n",
       "      <td>2.3999999999999999</td>\n",
       "      <td>4.0</td>\n",
       "      <td>2.6000000000000001</td>\n",
       "      <td>1</td>\n",
       "      <td>lure</td>\n",
       "      <td>mixed</td>\n",
       "      <td>s000</td>\n",
       "      <td>0</td>\n",
       "    </tr>\n",
       "    <tr>\n",
       "      <th>4</th>\n",
       "      <td>F</td>\n",
       "      <td>J</td>\n",
       "      <td>0</td>\n",
       "      <td>4</td>\n",
       "      <td>106.673120</td>\n",
       "      <td>0.0</td>\n",
       "      <td>F</td>\n",
       "      <td>107.047914</td>\n",
       "      <td>0.000165</td>\n",
       "      <td>0.374794</td>\n",
       "      <td>...</td>\n",
       "      <td>1.9199999999999999</td>\n",
       "      <td>5.5700000000000003</td>\n",
       "      <td>2.7999999999999998</td>\n",
       "      <td>6.3899999999999997</td>\n",
       "      <td>1.72</td>\n",
       "      <td>4</td>\n",
       "      <td>target</td>\n",
       "      <td>mixed</td>\n",
       "      <td>s000</td>\n",
       "      <td>0</td>\n",
       "    </tr>\n",
       "  </tbody>\n",
       "</table>\n",
       "<p>5 rows × 26 columns</p>\n",
       "</div>"
      ],
      "text/plain": [
       "  resp_map_target resp_map_lure  block_num  trial_num  stim_on_time  \\\n",
       "0               F             J          0          0    101.188904   \n",
       "1               F             J          0          1    102.763942   \n",
       "2               F             J          0          2    104.222439   \n",
       "3               F             J          0          3    105.267120   \n",
       "4               F             J          0          4    106.673120   \n",
       "\n",
       "   stim_on_error resp  resp_time_time  resp_time_error        rt  ...  \\\n",
       "0            0.0    J      101.828010         0.000163  0.639106  ...   \n",
       "1            0.0    F      103.238753         0.000167  0.474811  ...   \n",
       "2            0.0    J      104.701179         0.000175  0.478740  ...   \n",
       "3            0.0    J      105.840203         0.000205  0.573082  ...   \n",
       "4            0.0    F      107.047914         0.000165  0.374794  ...   \n",
       "\n",
       "           valence_sd        arousal_mean          arousal_sd  \\\n",
       "0  1.6599999999999999  5.7599999999999998                 2.5   \n",
       "1                1.76  4.5099999999999998  2.6800000000000002   \n",
       "2  2.1600000000000001  6.0700000000000003  2.1499999999999999   \n",
       "3  2.0099999999999998                 5.5  2.3999999999999999   \n",
       "4  1.9199999999999999  5.5700000000000003  2.7999999999999998   \n",
       "\n",
       "       dominance_mean        dominance_sd word_frequency novelty   cond  subj  \\\n",
       "0                6.25  2.1000000000000001             75    lure  mixed  s000   \n",
       "1  2.9500000000000002  2.1200000000000001             25  target  mixed  s000   \n",
       "2  4.1699999999999999  2.3999999999999999             12    lure  mixed  s000   \n",
       "3                 4.0  2.6000000000000001              1    lure  mixed  s000   \n",
       "4  6.3899999999999997                1.72              4  target  mixed  s000   \n",
       "\n",
       "  log_num  \n",
       "0       0  \n",
       "1       0  \n",
       "2       0  \n",
       "3       0  \n",
       "4       0  \n",
       "\n",
       "[5 rows x 26 columns]"
      ]
     },
     "execution_count": 3,
     "metadata": {},
     "output_type": "execute_result"
    }
   ],
   "source": [
    "# load the data from the word recog task\n",
    "task_dir = os.path.join('..', 'lessons', 'recog_dat')\n",
    "\n",
    "df_w = load_all_subj_logs(task_dir, 'log_word_test')\n",
    "df_w.head()"
   ]
  },
  {
   "cell_type": "markdown",
   "metadata": {
    "slideshow": {
     "slide_type": "slide"
    }
   },
   "source": [
    "## Some data clean-up"
   ]
  },
  {
   "cell_type": "code",
   "execution_count": 4,
   "metadata": {},
   "outputs": [],
   "source": [
    "# add in log_rt columns\n",
    "df_w['log_rt'] = np.log(df_w['rt'])\n",
    "\n",
    "# must make correct an int\n",
    "df_w['correct'] = df_w['correct'].astype(int)\n",
    "\n",
    "# add in a column for whether they made an 'old' response\n",
    "df_w['old_resp'] = (df_w['resp_map_target'] == df_w['resp']).astype(int)"
   ]
  },
  {
   "cell_type": "markdown",
   "metadata": {},
   "source": [
    "## Calculating sensitivity\n",
    "\n",
    "- Under assumptions of equal variance for both the signal and noise distributions, the d' (d-prime) is the measure of sensitivity\n",
    "\n",
    "$$d' = ((\\mu + \\alpha) - \\mu) / \\sigma$$\n",
    "$$d' = \\alpha / \\sigma$$\n",
    "\n",
    "- Thus, $d'$ is the difference between the two distributions in units of the standard deviation\n",
    "- Note, this is independent of the criterion\n"
   ]
  },
  {
   "cell_type": "code",
   "execution_count": 5,
   "metadata": {},
   "outputs": [],
   "source": [
    "def calc_dprime(n_hits, n_targets, n_false_alarms, n_lures):\n",
    "    # calculate corrected hit rate and false alarm rate (to avoid zeros)\n",
    "    hr_trans = (n_hits+.5)/(n_targets+1)\n",
    "    far_trans = (n_false_alarms+.5)/(n_lures+1)\n",
    "    \n",
    "    # calculate dprime\n",
    "    Z = dists.norm.ppf\n",
    "    dprime = Z(hr_trans) - Z(far_trans)\n",
    "    return dprime"
   ]
  },
  {
   "cell_type": "markdown",
   "metadata": {},
   "source": [
    "# Your code goes below here\n",
    "\n",
    "All code above should work without modification."
   ]
  },
  {
   "cell_type": "code",
   "execution_count": 6,
   "metadata": {},
   "outputs": [],
   "source": [
    "# use the agg method to get the counts"
   ]
  },
  {
   "cell_type": "code",
   "execution_count": 7,
   "metadata": {},
   "outputs": [],
   "source": [
    "# collapse the multi-index\n"
   ]
  },
  {
   "cell_type": "code",
   "execution_count": 8,
   "metadata": {},
   "outputs": [],
   "source": [
    "# use apply to add the dprime as a new column (axis=1 tells it to go by row)"
   ]
  },
  {
   "cell_type": "code",
   "execution_count": 9,
   "metadata": {},
   "outputs": [],
   "source": [
    "# use ci_within to calcuate the mean and confidence interval of d-prime"
   ]
  },
  {
   "cell_type": "code",
   "execution_count": 10,
   "metadata": {},
   "outputs": [],
   "source": [
    "# use plotnine to plot dprime as a function of condition, with a fill-color defined by valence\n",
    "# be sure to label your axes correctly and add the confidence interval with error bars"
   ]
  }
 ],
 "metadata": {
  "celltoolbar": "Slideshow",
  "kernelspec": {
   "display_name": "Python 3 (ipykernel)",
   "language": "python",
   "name": "python3"
  },
  "language_info": {
   "codemirror_mode": {
    "name": "ipython",
    "version": 3
   },
   "file_extension": ".py",
   "mimetype": "text/x-python",
   "name": "python",
   "nbconvert_exporter": "python",
   "pygments_lexer": "ipython3",
   "version": "3.9.7"
  },
  "rise": {
   "scroll": true
  }
 },
 "nbformat": 4,
 "nbformat_minor": 2
}
